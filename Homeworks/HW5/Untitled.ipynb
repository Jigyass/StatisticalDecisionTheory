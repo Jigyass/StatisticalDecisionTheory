{
 "cells": [
  {
   "cell_type": "code",
   "execution_count": 7,
   "id": "784ab39d-683d-4a61-b130-62f222543d2a",
   "metadata": {},
   "outputs": [
    {
     "name": "stdout",
     "output_type": "stream",
     "text": [
      "Fri Nov  1 12:42:20 2024       \n",
      "+-----------------------------------------------------------------------------+\n",
      "| NVIDIA-SMI 525.147.05   Driver Version: 525.147.05   CUDA Version: 12.0     |\n",
      "|-------------------------------+----------------------+----------------------+\n",
      "| GPU  Name        Persistence-M| Bus-Id        Disp.A | Volatile Uncorr. ECC |\n",
      "| Fan  Temp  Perf  Pwr:Usage/Cap|         Memory-Usage | GPU-Util  Compute M. |\n",
      "|                               |                      |               MIG M. |\n",
      "|===============================+======================+======================|\n",
      "|   0  NVIDIA A100-PCI...  Off  | 00000000:25:00.0 Off |                    0 |\n",
      "| N/A   41C    P0   138W / 250W |  14307MiB / 40960MiB |     49%      Default |\n",
      "|                               |                      |             Disabled |\n",
      "+-------------------------------+----------------------+----------------------+\n",
      "|   1  NVIDIA A100-PCI...  Off  | 00000000:C8:00.0 Off |                    0 |\n",
      "| N/A   26C    P0    36W / 250W |  17761MiB / 40960MiB |      2%      Default |\n",
      "|                               |                      |             Disabled |\n",
      "+-------------------------------+----------------------+----------------------+\n",
      "                                                                               \n",
      "+-----------------------------------------------------------------------------+\n",
      "| Processes:                                                                  |\n",
      "|  GPU   GI   CI        PID   Type   Process name                  GPU Memory |\n",
      "|        ID   ID                                                   Usage      |\n",
      "|=============================================================================|\n",
      "|    0   N/A  N/A      3703      G   /usr/lib/xorg/Xorg                  4MiB |\n",
      "|    0   N/A  N/A    293531      C   ...nvs/conda_env1/bin/python     1286MiB |\n",
      "|    0   N/A  N/A    662479      C   ...a3/envs/NYU-DL/bin/python      414MiB |\n",
      "|    0   N/A  N/A   1269792      C   ...nvs/conda_env1/bin/python     1284MiB |\n",
      "|    0   N/A  N/A   1590392      C   python3                          1002MiB |\n",
      "|    0   N/A  N/A   1670469      C   ...nvs/conda_env1/bin/python     1290MiB |\n",
      "|    0   N/A  N/A   1792912      C   ...a3/envs/NYU-DL/bin/python     1300MiB |\n",
      "|    0   N/A  N/A   1793675      C   ...nvs/conda_env1/bin/python     1288MiB |\n",
      "|    0   N/A  N/A   2290178      C   ...nvs/conda_env1/bin/python     1284MiB |\n",
      "|    0   N/A  N/A   2292845      C   ...nvs/conda_env1/bin/python     1286MiB |\n",
      "|    0   N/A  N/A   3128354      C   ...nvs/conda_env1/bin/python     1290MiB |\n",
      "|    0   N/A  N/A   3634005      C   ...nvs/conda_env1/bin/python     1288MiB |\n",
      "|    0   N/A  N/A   3973986      C   ...nvs/conda_env1/bin/python     1284MiB |\n",
      "|    1   N/A  N/A      3703      G   /usr/lib/xorg/Xorg                  4MiB |\n",
      "|    1   N/A  N/A   1066239      C   ...s081p868/.venv/bin/python      878MiB |\n",
      "|    1   N/A  N/A   1778349      C   ...ory/Homework5/bin/python3      534MiB |\n",
      "|    1   N/A  N/A   2060582      C   ...hameleon/venv2/bin/python    16338MiB |\n",
      "+-----------------------------------------------------------------------------+\n"
     ]
    }
   ],
   "source": [
    "!nvidia-smi"
   ]
  },
  {
   "cell_type": "code",
   "execution_count": null,
   "id": "4294e7c2-9126-467d-8d9d-fddeedd06239",
   "metadata": {},
   "outputs": [],
   "source": []
  }
 ],
 "metadata": {
  "kernelspec": {
   "display_name": "Python 3 (ipykernel)",
   "language": "python",
   "name": "python3"
  },
  "language_info": {
   "codemirror_mode": {
    "name": "ipython",
    "version": 3
   },
   "file_extension": ".py",
   "mimetype": "text/x-python",
   "name": "python",
   "nbconvert_exporter": "python",
   "pygments_lexer": "ipython3",
   "version": "3.10.12"
  }
 },
 "nbformat": 4,
 "nbformat_minor": 5
}
