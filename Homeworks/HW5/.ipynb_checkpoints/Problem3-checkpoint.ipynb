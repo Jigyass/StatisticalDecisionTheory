{
 "cells": [
  {
   "cell_type": "code",
   "execution_count": 1,
   "id": "779e758c-536f-4093-8326-e39be7af2b60",
   "metadata": {},
   "outputs": [],
   "source": [
    "#Library Imports\n",
    "from torchvision import datasets\n",
    "from torchvision.transforms import ToTensor\n",
    "from torch.utils.data import DataLoader\n",
    "import torch\n",
    "from torch import nn\n",
    "import numpy as np\n",
    "import matplotlib.pyplot as plt"
   ]
  },
  {
   "cell_type": "code",
   "execution_count": 2,
   "id": "0e16f362-83e0-4728-8a4a-dd4afe5d0fe1",
   "metadata": {},
   "outputs": [],
   "source": [
    "train_data = datasets.USPS(root='usps', download=True, transform=ToTensor(), train=True)\n",
    "test_data = datasets.USPS(root='usps', download=True, transform=ToTensor(), train=False)\n",
    "\n",
    "# Create DataLoaders for training and testing\n",
    "train_loader = DataLoader(train_data, batch_size=1024, shuffle=True)\n",
    "test_loader = DataLoader(test_data, batch_size=1024, shuffle=False)"
   ]
  },
  {
   "cell_type": "code",
   "execution_count": 3,
   "id": "d095453d-2687-4a82-b855-3d65620d1ae1",
   "metadata": {},
   "outputs": [],
   "source": [
    "class MLP(nn.Module):\n",
    "    def __init__(self):\n",
    "        super().__init__()\n",
    "        self.flatten = nn.Flatten()\n",
    "        self.mlp = nn.Sequential(nn.Linear(16*16, 128), nn.ReLU(), nn.Linear(128, 128), nn.ReLU(), nn.Linear(128, 10))\n",
    "    def forward(self, X):\n",
    "        return self.mlp(self.flatten(X))\n",
    "\n",
    "model = MLP().to('cuda:1')\n",
    "loss_fn = nn.CrossEntropyLoss()\n",
    "optimizer = torch.optim.SGD(model.parameters(), lr=0.5)"
   ]
  },
  {
   "cell_type": "code",
   "execution_count": null,
   "id": "45eb94ea-3113-43b4-aca7-27976405ae74",
   "metadata": {},
   "outputs": [
    {
     "name": "stdout",
     "output_type": "stream",
     "text": [
      "Epoch 100/1000 | Loss: 0.0320 | Training Accuracy: 0.9915 | Test Accuracy: 0.9352\n",
      "Epoch 200/1000 | Loss: 0.0073 | Training Accuracy: 0.9993 | Test Accuracy: 0.9397\n",
      "Epoch 300/1000 | Loss: 0.4459 | Training Accuracy: 0.8756 | Test Accuracy: 0.8211\n",
      "Epoch 400/1000 | Loss: 0.0400 | Training Accuracy: 0.9893 | Test Accuracy: 0.9322\n"
     ]
    }
   ],
   "source": [
    "%%time\n",
    "loss_per_epoch = []\n",
    "training_accuracy = []\n",
    "test_accuracy = []\n",
    "\n",
    "epochs = 1000\n",
    "for epoch in range(epochs):\n",
    "    cumulative_loss = 0\n",
    "    cumulative_accuracy = 0\n",
    "    \n",
    "    for X, Y in train_loader:\n",
    "        X, Y = X.to('cuda:1'), Y.to('cuda:1')\n",
    "        out = model(X)\n",
    "        loss = loss_fn(out, Y)\n",
    "        cumulative_loss += loss.item()\n",
    "\n",
    "        optimizer.zero_grad()\n",
    "        loss.backward()\n",
    "        optimizer.step()\n",
    "\n",
    "        cumulative_accuracy += (out.argmax(axis=1) == Y).sum().item()\n",
    "\n",
    "    loss_per_epoch.append(cumulative_loss / len(train_loader))\n",
    "    training_accuracy.append(cumulative_accuracy / len(train_data))\n",
    "\n",
    "    with torch.no_grad():\n",
    "        correct_predictions = 0\n",
    "        for Xt, Yt in test_loader:\n",
    "            Xt, Yt = Xt.to('cuda:1'), Yt.to('cuda:1')\n",
    "            test_out = model(Xt)\n",
    "            correct_predictions += (test_out.argmax(axis=1) == Yt).sum().item()\n",
    "        test_accuracy.append(correct_predictions / len(test_data))\n",
    "\n",
    "    if (epoch + 1) % 100 == 0:\n",
    "        print(f\"Epoch {epoch + 1}/{epochs} | Loss: {loss_per_epoch[-1]:.4f} | Training Accuracy: {training_accuracy[-1]:.4f} | Test Accuracy: {test_accuracy[-1]:.4f}\")\n"
   ]
  },
  {
   "cell_type": "code",
   "execution_count": null,
   "id": "e3e367b0-5bcf-4628-956a-031aee32671e",
   "metadata": {},
   "outputs": [],
   "source": [
    "plt.figure()\n",
    "plt.plot(np.arange(1, epochs + 1), loss_per_epoch, label=\"Cross-Entropy Loss\")\n",
    "plt.xlabel(\"Epoch\")\n",
    "plt.ylabel(\"Loss\")\n",
    "plt.title(\"Cross-Entropy Loss vs. Epoch\")\n",
    "plt.legend()\n",
    "plt.show()\n",
    "plt.figure()\n",
    "\n",
    "plt.plot(np.arange(1, epochs + 1), training_accuracy, label=\"Training Accuracy\")\n",
    "plt.plot(np.arange(1, epochs + 1), test_accuracy, label=\"Testing Accuracy\")\n",
    "plt.xlabel(\"Epoch\")\n",
    "plt.ylabel(\"Accuracy\")\n",
    "plt.title(\"Training and Testing Accuracy vs. Epoch\")\n",
    "plt.legend()\n",
    "plt.show()"
   ]
  }
 ],
 "metadata": {
  "kernelspec": {
   "display_name": "Python 3 (ipykernel)",
   "language": "python",
   "name": "python3"
  },
  "language_info": {
   "codemirror_mode": {
    "name": "ipython",
    "version": 3
   },
   "file_extension": ".py",
   "mimetype": "text/x-python",
   "name": "python",
   "nbconvert_exporter": "python",
   "pygments_lexer": "ipython3",
   "version": "3.10.12"
  }
 },
 "nbformat": 4,
 "nbformat_minor": 5
}
