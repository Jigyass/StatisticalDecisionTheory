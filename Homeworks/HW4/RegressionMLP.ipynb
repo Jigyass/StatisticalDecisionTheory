{
 "cells": [
  {
   "cell_type": "code",
   "execution_count": 1,
   "id": "17b00793-9120-44d6-bfaa-cfee7c347a9c",
   "metadata": {},
   "outputs": [
    {
     "name": "stdout",
     "output_type": "stream",
     "text": [
      "Shape of X: (7384, 2)\n",
      "Shape of Y: (7384, 1)\n"
     ]
    }
   ],
   "source": [
    "import numpy as np\n",
    "\n",
    "data = np.genfromtxt('/home/darksst/Desktop/Fall24/StatisticalDecisionTheory/Data/gt_data/gt_2015.csv', skip_header=1, delimiter=',', usecols=(0, 3, 8, 9, 10))\n",
    "\n",
    "data_clean = data[~np.isnan(data).any(axis=1)]\n",
    "\n",
    "Y = data_clean[:, 3].reshape(-1, 1)  \n",
    "X = data_clean[:, [0, 1]]\n",
    "\n",
    "print(\"Shape of X:\", X.shape)\n",
    "print(\"Shape of Y:\", Y.shape)\n"
   ]
  },
  {
   "cell_type": "code",
   "execution_count": 2,
   "id": "d2179d5e-1906-476a-90a6-2dbd1192994f",
   "metadata": {},
   "outputs": [],
   "source": [
    "input_size = X.shape[1]\n",
    "hidden = 2\n",
    "output = 1\n",
    "\n",
    "bound = 1/np.sqrt(2)\n",
    "\n",
    "#Weights and Biases for the hidden layer\n",
    "W1 = np.random.uniform(low=-bound, high=bound, size=(input_size, hidden))\n",
    "b1 = np.random.uniform(low=-bound, high=bound, size=(1, hidden))\n",
    "\n",
    "#Weights and Biases for the output layer\n",
    "W2 = np.random.uniform(low=-bound, high=bound, size=(hidden, output))\n",
    "b2 = np.random.uniform(low=-bound, high=bound, size=(1, output))\n"
   ]
  },
  {
   "cell_type": "code",
   "execution_count": 3,
   "id": "5cdbcc28-532a-4b81-8eb0-3689bee5efff",
   "metadata": {},
   "outputs": [],
   "source": [
    "def relu(Z):\n",
    "    return np.maximum(0, Z)\n",
    "\n",
    "def forward_propagation(X, W1, b1, W2, b2):\n",
    "    Z1 = np.dot(X, W1) + b1  \n",
    "    \n",
    "    A1 = relu(Z1)  \n",
    "    \n",
    "    Z2 = np.dot(A1, W2) + b2 \n",
    "    \n",
    "    return Z2, A1 \n",
    "    \n",
    "Z2, A1 = forward_propagation(X, W1, b1, W2, b2)"
   ]
  },
  {
   "cell_type": "code",
   "execution_count": 4,
   "id": "fad05c1c-ba99-4c5a-aca2-577cb6d28e85",
   "metadata": {},
   "outputs": [
    {
     "name": "stdout",
     "output_type": "stream",
     "text": [
      "Mean Squared Error (MSE) Loss: 66.78648862297081\n"
     ]
    }
   ],
   "source": [
    "def compute_loss(Y, Y_hat):\n",
    "    m = Y.shape[0] \n",
    "    loss = (1/m) * np.sum((Y_hat - Y)**2) \n",
    "    return loss\n",
    "\n",
    "Y_hat, _ = forward_propagation(X, W1, b1, W2, b2)\n",
    "\n",
    "loss = compute_loss(Y, Y_hat)\n",
    "\n",
    "print(\"Mean Squared Error (MSE) Loss:\", loss)"
   ]
  },
  {
   "cell_type": "code",
   "execution_count": 5,
   "id": "482981a3-5baf-4410-8fe3-5a1c90b95dcf",
   "metadata": {},
   "outputs": [],
   "source": [
    "def relu_derivative(Z):\n",
    "    return Z > 0  \n",
    "\n",
    "def backward_propagation(X, Y, W1, b1, W2, b2, A1, Y_hat):\n",
    "    m = Y.shape[0]\n",
    "    dZ2 = Y_hat - Y  \n",
    "    dW2 = (1/m) * np.dot(A1.T, dZ2)  \n",
    "    db2 = (1/m) * np.sum(dZ2, axis=0, keepdims=True)  \n",
    "\n",
    "    dA1 = np.dot(dZ2, W2.T)  \n",
    "    dZ1 = dA1 * relu_derivative(A1)  \n",
    "    dW1 = (1/m) * np.dot(X.T, dZ1)\n",
    "    db1 = (1/m) * np.sum(dZ1, axis=0, keepdims=True) \n",
    "\n",
    "    return dW1, db1, dW2, db2\n",
    "\n",
    "Y_hat, A1 = forward_propagation(X, W1, b1, W2, b2)\n",
    "\n",
    "dW1, db1, dW2, db2 = backward_propagation(X, Y, W1, b1, W2, b2, A1, Y_hat)"
   ]
  },
  {
   "cell_type": "code",
   "execution_count": 6,
   "id": "0d334ec6-0d09-4153-ab19-bb3435640fbd",
   "metadata": {},
   "outputs": [],
   "source": [
    "def update_parameters(W1, b1, W2, b2, dW1, db1, dW2, db2, alpha):\n",
    "    W1 = W1 - alpha * dW1\n",
    "    b1 = b1 - alpha * db1\n",
    "    W2 = W2 - alpha * dW2\n",
    "    b2 = b2 - alpha * db2\n",
    "\n",
    "    return W1, b1, W2, b2\n",
    "\n",
    "alpha = 0.01 \n",
    "\n",
    "W1, b1, W2, b2 = update_parameters(W1, b1, W2, b2, dW1, db1, dW2, db2, alpha)"
   ]
  },
  {
   "cell_type": "code",
   "execution_count": 7,
   "id": "c22365b9-dbcc-4c3d-a908-8b41f9521d11",
   "metadata": {},
   "outputs": [],
   "source": [
    "def train(X, Y, W1, b1, W2, b2, epochs, alpha):\n",
    "    loss_history = [] \n",
    "\n",
    "    for epoch in range(epochs):\n",
    "        # Step 1: Forward propagation\n",
    "        Y_hat, A1 = forward_propagation(X, W1, b1, W2, b2)\n",
    "\n",
    "        # Step 2: Compute the loss (MSE)\n",
    "        loss = compute_loss(Y, Y_hat)\n",
    "        loss_history.append(loss)\n",
    "\n",
    "        # Step 3: Backward propagation\n",
    "        dW1, db1, dW2, db2 = backward_propagation(X, Y, W1, b1, W2, b2, A1, Y_hat)\n",
    "\n",
    "        # Step 4: Update the parameters\n",
    "        W1, b1, W2, b2 = update_parameters(W1, b1, W2, b2, dW1, db1, dW2, db2, alpha)\n",
    "\n",
    "        # Print the loss every 50 epochs\n",
    "        if epoch % 50 == 0:\n",
    "            print(f'Epoch {epoch}/{epochs}, Loss: {loss}')\n",
    "\n",
    "    return W1, b1, W2, b2, loss_history"
   ]
  },
  {
   "cell_type": "code",
   "execution_count": 8,
   "id": "cf3f073f-5b97-4c1f-abb7-c555c2e19d59",
   "metadata": {},
   "outputs": [
    {
     "name": "stdout",
     "output_type": "stream",
     "text": [
      "Epoch 0/400, Loss: 14.706488549023492\n",
      "Epoch 50/400, Loss: 5.748323201440285\n",
      "Epoch 100/400, Loss: 5.030013933619313\n",
      "Epoch 150/400, Loss: 4.878225286090602\n",
      "Epoch 200/400, Loss: 4.824956690483424\n",
      "Epoch 250/400, Loss: 4.79124286104354\n",
      "Epoch 300/400, Loss: 4.772109031222311\n",
      "Epoch 350/400, Loss: 4.831335614819339\n"
     ]
    },
    {
     "data": {
      "image/png": "[encoded data removed]",
      "text/plain": [
       "<Figure size 640x480 with 1 Axes>"
      ]
     },
     "metadata": {},
     "output_type": "display_data"
    }
   ],
   "source": [
    "epochs = 400\n",
    "alpha = 0.03\n",
    "\n",
    "W1, b1, W2, b2, loss_history = train(X, Y, W1, b1, W2, b2, epochs, alpha)\n",
    "\n",
    "# Plot the loss over epochs\n",
    "import matplotlib.pyplot as plt\n",
    "\n",
    "plt.plot(range(epochs), loss_history)\n",
    "plt.xlabel('Epochs')\n",
    "plt.ylabel('Loss (MSE)')\n",
    "plt.title('Training Loss over 400 Epochs')\n",
    "plt.show()"
   ]
  },
  {
   "cell_type": "code",
   "execution_count": 9,
   "id": "5c8cd6c8-388a-4294-9a1b-5db68aabee2c",
   "metadata": {},
   "outputs": [
    {
     "name": "stdout",
     "output_type": "stream",
     "text": [
      "Epoch 0/400, Loss: 13.05589485168457\n",
      "Epoch 50/400, Loss: 5.020622253417969\n",
      "Epoch 100/400, Loss: 4.999037265777588\n",
      "Epoch 150/400, Loss: 4.996543884277344\n",
      "Epoch 200/400, Loss: 4.995215892791748\n",
      "Epoch 250/400, Loss: 4.994339942932129\n",
      "Epoch 300/400, Loss: 4.993725776672363\n",
      "Epoch 350/400, Loss: 4.993305206298828\n"
     ]
    },
    {
     "data": {
      "image/png": "[encoded data removed]",
      "text/plain": [
       "<Figure size 640x480 with 1 Axes>"
      ]
     },
     "metadata": {},
     "output_type": "display_data"
    }
   ],
   "source": [
    "import torch\n",
    "import torch.nn as nn\n",
    "import torch.optim as optim\n",
    "import numpy as np\n",
    "import matplotlib.pyplot as plt\n",
    "\n",
    "# Convert the NumPy arrays to PyTorch tensors\n",
    "X_tensor = torch.tensor(X, dtype=torch.float32)\n",
    "Y_tensor = torch.tensor(Y, dtype=torch.float32)\n",
    "\n",
    "class MLPModel(nn.Module):\n",
    "    def __init__(self):\n",
    "        super(MLPModel, self).__init__()\n",
    "        self.hidden = nn.Linear(2, 2) \n",
    "        self.relu = nn.ReLU()  \n",
    "        self.output = nn.Linear(2, 1)  \n",
    "\n",
    "    def forward(self, x):\n",
    "        x = self.hidden(x)  \n",
    "        x = self.relu(x)     \n",
    "        x = self.output(x)  \n",
    "        return x\n",
    "model = MLPModel()\n",
    "criterion = nn.MSELoss()\n",
    "learning_rate = 0.03\n",
    "optimizer = optim.SGD(model.parameters(), lr=learning_rate)\n",
    "\n",
    "def train_model(model, X_tensor, Y_tensor, epochs, optimizer, criterion):\n",
    "    loss_history = [] \n",
    "\n",
    "    for epoch in range(epochs):\n",
    "        # Forward pass: Compute predicted Y by passing X to the model\n",
    "        Y_pred = model(X_tensor)\n",
    "\n",
    "        # Compute the loss\n",
    "        loss = criterion(Y_pred, Y_tensor)\n",
    "\n",
    "        # Backward pass: Compute gradients\n",
    "        optimizer.zero_grad() \n",
    "        loss.backward()    \n",
    "\n",
    "        # Update parameters\n",
    "        optimizer.step()\n",
    "\n",
    "        # Store the loss\n",
    "        loss_history.append(loss.item())\n",
    "\n",
    "        # Print loss every 50 epochs\n",
    "        if epoch % 50 == 0:\n",
    "            print(f'Epoch {epoch}/{epochs}, Loss: {loss.item()}')\n",
    "\n",
    "    return loss_history\n",
    "\n",
    "epochs_400 = 400\n",
    "loss_history_400 = train_model(model, X_tensor, Y_tensor, epochs_400, optimizer, criterion)\n",
    "\n",
    "plt.plot(range(epochs_400), loss_history_400)\n",
    "plt.xlabel('Epochs')\n",
    "plt.ylabel('Loss (MSE)')\n",
    "plt.title('Training Loss over 400 Epochs (PyTorch)')\n",
    "plt.show()"
   ]
  }
 ],
 "metadata": {
  "kernelspec": {
   "display_name": "Python 3 (ipykernel)",
   "language": "python",
   "name": "python3"
  },
  "language_info": {
   "codemirror_mode": {
    "name": "ipython",
    "version": 3
   },
   "file_extension": ".py",
   "mimetype": "text/x-python",
   "name": "python",
   "nbconvert_exporter": "python",
   "pygments_lexer": "ipython3",
   "version": "3.12.3"
  }
 },
 "nbformat": 4,
 "nbformat_minor": 5
}
