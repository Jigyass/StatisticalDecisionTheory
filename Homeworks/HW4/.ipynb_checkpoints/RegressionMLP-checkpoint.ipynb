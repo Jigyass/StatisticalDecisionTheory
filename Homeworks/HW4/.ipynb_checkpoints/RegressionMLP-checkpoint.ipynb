{
 "cells": [
  {
   "cell_type": "code",
   "execution_count": 1,
   "id": "17b00793-9120-44d6-bfaa-cfee7c347a9c",
   "metadata": {},
   "outputs": [
    {
     "name": "stdout",
     "output_type": "stream",
     "text": [
      "Shape of X: (7384, 2)\n",
      "Shape of Y: (7384, 1)\n"
     ]
    }
   ],
   "source": [
    "import numpy as np\n",
    "\n",
    "# Load the dataset\n",
    "data = np.genfromtxt('/home/darksst/Desktop/Fall24/StatisticalDecisionTheory/Data/gt_data/gt_2015.csv', skip_header=1, delimiter=',', usecols=(0, 3, 8, 9, 10))\n",
    "\n",
    "# Clean the data (remove rows with missing values)\n",
    "data_clean = data[~np.isnan(data).any(axis=1)]\n",
    "\n",
    "#The response matrix\n",
    "Y = data_clean[:, 3].reshape(-1, 1)  # Reshape Y to make it a column vector\n",
    "\n",
    "#The feature matrix\n",
    "X = data_clean[:, [0, 1]]\n",
    "\n",
    "# Print the shapes of X and Y to verify\n",
    "print(\"Shape of X:\", X.shape)\n",
    "print(\"Shape of Y:\", Y.shape)\n"
   ]
  },
  {
   "cell_type": "code",
   "execution_count": 2,
   "id": "d2179d5e-1906-476a-90a6-2dbd1192994f",
   "metadata": {},
   "outputs": [
    {
     "name": "stdout",
     "output_type": "stream",
     "text": [
      "W1 (hidden layer weights):\n",
      " [[-0.63055488  0.38743156]\n",
      " [ 0.16238567  0.15180489]]\n",
      "b1 (hidden layer biases):\n",
      " [[ 0.61807912 -0.22531297]]\n",
      "W2 (output layer weights):\n",
      " [[-0.3759852 ]\n",
      " [-0.37538897]]\n",
      "b2 (output layer biases):\n",
      " [[-0.18014044]]\n"
     ]
    }
   ],
   "source": [
    "input_size = X.shape[1]\n",
    "hidden = 2\n",
    "output = 1\n",
    "\n",
    "bound = 1/np.sqrt(2)\n",
    "\n",
    "#Weights and Biases for the hidden layer\n",
    "W1 = np.random.uniform(low=-bound, high=bound, size=(input_size, hidden))\n",
    "b1 = np.random.uniform(low=-bound, high=bound, size=(1, hidden))\n",
    "\n",
    "#Weights and Biases for the output layer\n",
    "W2 = np.random.uniform(low=-bound, high=bound, size=(hidden, output))\n",
    "b2 = np.random.uniform(low=-bound, high=bound, size=(1, output))\n",
    "\n",
    "# Print initialized parameters to verify\n",
    "print(\"W1 (hidden layer weights):\\n\", W1)\n",
    "print(\"b1 (hidden layer biases):\\n\", b1)\n",
    "print(\"W2 (output layer weights):\\n\", W2)\n",
    "print(\"b2 (output layer biases):\\n\", b2)"
   ]
  },
  {
   "cell_type": "code",
   "execution_count": 3,
   "id": "5cdbcc28-532a-4b81-8eb0-3689bee5efff",
   "metadata": {},
   "outputs": [
    {
     "name": "stdout",
     "output_type": "stream",
     "text": [
      "Output of the network (predicted CO values):\n",
      " [[-0.5238261 ]\n",
      " [-0.49878208]\n",
      " [-0.56898997]\n",
      " ...\n",
      " [-1.08163183]\n",
      " [-1.17825172]\n",
      " [-1.19471848]]\n",
      "Activations of the hidden layer (A1):\n",
      " [[0.         0.91554545]\n",
      " [0.23807225 0.61038021]\n",
      " [0.4708415  0.5642683 ]\n",
      " ...\n",
      " [0.         2.40148608]\n",
      " [0.         2.65887216]\n",
      " [0.         2.70273802]]\n"
     ]
    }
   ],
   "source": [
    "# ReLU activation function\n",
    "def relu(Z):\n",
    "    return np.maximum(0, Z)\n",
    "\n",
    "# Forward propagation function\n",
    "def forward_propagation(X, W1, b1, W2, b2):\n",
    "    # Step 1: Compute the pre-activation for the hidden layer\n",
    "    Z1 = np.dot(X, W1) + b1  # Pre-activation for hidden layer\n",
    "    \n",
    "    # Step 2: Apply ReLU activation function for the hidden layer\n",
    "    A1 = relu(Z1)  # Activation for hidden layer\n",
    "    \n",
    "    # Step 3: Compute the pre-activation for the output layer (no activation)\n",
    "    Z2 = np.dot(A1, W2) + b2  # Pre-activation for output layer (regression)\n",
    "    \n",
    "    # Output of the forward propagation (Z2 is the predicted CO)\n",
    "    return Z2, A1  # Return both Z2 (output) and A1 (hidden layer activation)\n",
    "\n",
    "\n",
    "Z2, A1 = forward_propagation(X, W1, b1, W2, b2)\n",
    "\n",
    "# Print the output (Z2) and hidden layer activations (A1)\n",
    "print(\"Output of the network (predicted CO values):\\n\", Z2)\n",
    "print(\"Activations of the hidden layer (A1):\\n\", A1)"
   ]
  },
  {
   "cell_type": "code",
   "execution_count": 4,
   "id": "fad05c1c-ba99-4c5a-aca2-577cb6d28e85",
   "metadata": {},
   "outputs": [
    {
     "name": "stdout",
     "output_type": "stream",
     "text": [
      "Mean Squared Error (MSE) Loss: 39.629756089767056\n"
     ]
    }
   ],
   "source": [
    "# Mean Squared Error (MSE) loss function\n",
    "def compute_loss(Y, Y_hat):\n",
    "    m = Y.shape[0]  # Number of samples\n",
    "    loss = (1/m) * np.sum((Y_hat - Y)**2)  # MSE formula\n",
    "    return loss\n",
    "\n",
    "# Perform forward propagation to get predicted CO values\n",
    "Y_hat, _ = forward_propagation(X, W1, b1, W2, b2)\n",
    "\n",
    "# Compute the loss (MSE)\n",
    "loss = compute_loss(Y, Y_hat)\n",
    "\n",
    "# Print the loss\n",
    "print(\"Mean Squared Error (MSE) Loss:\", loss)"
   ]
  },
  {
   "cell_type": "code",
   "execution_count": 5,
   "id": "482981a3-5baf-4410-8fe3-5a1c90b95dcf",
   "metadata": {},
   "outputs": [
    {
     "name": "stdout",
     "output_type": "stream",
     "text": [
      "dW1 (gradient of W1):\n",
      " [[-2.61155242e-02  3.93858315e+01]\n",
      " [ 1.32814007e-01  7.80190564e+00]]\n",
      "db1 (gradient of b1):\n",
      " [[0.04239733 2.22126353]]\n",
      "dW2 (gradient of W2):\n",
      " [[ -0.17085583]\n",
      " [-42.47115221]]\n",
      "db2 (gradient of b2):\n",
      " [[-5.95287532]]\n"
     ]
    }
   ],
   "source": [
    "# ReLU derivative function\n",
    "def relu_derivative(Z):\n",
    "    return Z > 0  # Derivative of ReLU is 1 for Z > 0, and 0 otherwise\n",
    "\n",
    "# Backpropagation function\n",
    "def backward_propagation(X, Y, W1, b1, W2, b2, A1, Y_hat):\n",
    "    m = Y.shape[0]  # Number of samples\n",
    "\n",
    "    # Step 1: Compute gradients for the output layer\n",
    "    dZ2 = Y_hat - Y  # Gradient of loss with respect to Z2\n",
    "    dW2 = (1/m) * np.dot(A1.T, dZ2)  # Gradient of loss with respect to W2\n",
    "    db2 = (1/m) * np.sum(dZ2, axis=0, keepdims=True)  # Gradient of loss with respect to b2\n",
    "\n",
    "    # Step 2: Backpropagate into the hidden layer\n",
    "    dA1 = np.dot(dZ2, W2.T)  # Gradient of loss with respect to A1\n",
    "    dZ1 = dA1 * relu_derivative(A1)  # Gradient of loss with respect to Z1 (apply ReLU derivative)\n",
    "    dW1 = (1/m) * np.dot(X.T, dZ1)  # Gradient of loss with respect to W1\n",
    "    db1 = (1/m) * np.sum(dZ1, axis=0, keepdims=True)  # Gradient of loss with respect to b1\n",
    "\n",
    "    return dW1, db1, dW2, db2\n",
    "\n",
    "# Perform forward propagation to get predicted CO values and hidden layer activations\n",
    "Y_hat, A1 = forward_propagation(X, W1, b1, W2, b2)\n",
    "\n",
    "# Perform backward propagation to compute gradients\n",
    "dW1, db1, dW2, db2 = backward_propagation(X, Y, W1, b1, W2, b2, A1, Y_hat)\n",
    "\n",
    "# Print the computed gradients\n",
    "print(\"dW1 (gradient of W1):\\n\", dW1)\n",
    "print(\"db1 (gradient of b1):\\n\", db1)\n",
    "print(\"dW2 (gradient of W2):\\n\", dW2)\n",
    "print(\"db2 (gradient of b2):\\n\", db2)"
   ]
  },
  {
   "cell_type": "code",
   "execution_count": 6,
   "id": "0d334ec6-0d09-4153-ab19-bb3435640fbd",
   "metadata": {},
   "outputs": [
    {
     "name": "stdout",
     "output_type": "stream",
     "text": [
      "Updated W1 (hidden layer weights):\n",
      " [[-0.63029373 -0.00642675]\n",
      " [ 0.16105753  0.07378583]]\n",
      "Updated b1 (hidden layer biases):\n",
      " [[ 0.61765515 -0.24752561]]\n",
      "Updated W2 (output layer weights):\n",
      " [[-0.37427664]\n",
      " [ 0.04932255]]\n",
      "Updated b2 (output layer biases):\n",
      " [[-0.12061169]]\n"
     ]
    }
   ],
   "source": [
    "# Gradient descent update function\n",
    "def update_parameters(W1, b1, W2, b2, dW1, db1, dW2, db2, alpha):\n",
    "    # Update weights and biases for the hidden layer\n",
    "    W1 = W1 - alpha * dW1\n",
    "    b1 = b1 - alpha * db1\n",
    "\n",
    "    # Update weights and biases for the output layer\n",
    "    W2 = W2 - alpha * dW2\n",
    "    b2 = b2 - alpha * db2\n",
    "\n",
    "    return W1, b1, W2, b2\n",
    "\n",
    "# Set the learning rate\n",
    "alpha = 0.01  # You can adjust this learning rate value if needed\n",
    "\n",
    "# Perform the parameter update\n",
    "W1, b1, W2, b2 = update_parameters(W1, b1, W2, b2, dW1, db1, dW2, db2, alpha)\n",
    "\n",
    "# Print updated parameters\n",
    "print(\"Updated W1 (hidden layer weights):\\n\", W1)\n",
    "print(\"Updated b1 (hidden layer biases):\\n\", b1)\n",
    "print(\"Updated W2 (output layer weights):\\n\", W2)\n",
    "print(\"Updated b2 (output layer biases):\\n\", b2)"
   ]
  },
  {
   "cell_type": "code",
   "execution_count": 7,
   "id": "c22365b9-dbcc-4c3d-a908-8b41f9521d11",
   "metadata": {},
   "outputs": [],
   "source": [
    "# Training function for multiple epochs\n",
    "def train(X, Y, W1, b1, W2, b2, epochs, alpha):\n",
    "    loss_history = []  # To store loss values for each epoch\n",
    "\n",
    "    for epoch in range(epochs):\n",
    "        # Step 1: Forward propagation\n",
    "        Y_hat, A1 = forward_propagation(X, W1, b1, W2, b2)\n",
    "\n",
    "        # Step 2: Compute the loss (MSE)\n",
    "        loss = compute_loss(Y, Y_hat)\n",
    "        loss_history.append(loss)\n",
    "\n",
    "        # Step 3: Backward propagation\n",
    "        dW1, db1, dW2, db2 = backward_propagation(X, Y, W1, b1, W2, b2, A1, Y_hat)\n",
    "\n",
    "        # Step 4: Update the parameters\n",
    "        W1, b1, W2, b2 = update_parameters(W1, b1, W2, b2, dW1, db1, dW2, db2, alpha)\n",
    "\n",
    "        # Print the loss every 50 epochs\n",
    "        if epoch % 50 == 0:\n",
    "            print(f'Epoch {epoch}/{epochs}, Loss: {loss}')\n",
    "\n",
    "    return W1, b1, W2, b2, loss_history"
   ]
  },
  {
   "cell_type": "code",
   "execution_count": 8,
   "id": "cf3f073f-5b97-4c1f-abb7-c555c2e19d59",
   "metadata": {},
   "outputs": [
    {
     "name": "stdout",
     "output_type": "stream",
     "text": [
      "Epoch 0/400, Loss: 15.66775683381962\n",
      "Epoch 50/400, Loss: 6.430319266208102\n",
      "Epoch 100/400, Loss: 5.367560358904951\n",
      "Epoch 150/400, Loss: 4.986352346613192\n",
      "Epoch 200/400, Loss: 4.877048279699598\n",
      "Epoch 250/400, Loss: 4.836889932618573\n",
      "Epoch 300/400, Loss: 4.811934859105808\n",
      "Epoch 350/400, Loss: 4.7956200790935535\n"
     ]
    },
    {
     "data": {
      "image/png": "[encoded data removed]",
      "text/plain": [
       "<Figure size 640x480 with 1 Axes>"
      ]
     },
     "metadata": {},
     "output_type": "display_data"
    }
   ],
   "source": [
    "\n",
    "# Set the number of epochs and learning rate\n",
    "epochs = 400\n",
    "alpha = 0.03\n",
    "\n",
    "# Train the model\n",
    "W1, b1, W2, b2, loss_history = train(X, Y, W1, b1, W2, b2, epochs, alpha)\n",
    "\n",
    "# Plot the loss over epochs\n",
    "import matplotlib.pyplot as plt\n",
    "\n",
    "plt.plot(range(epochs), loss_history)\n",
    "plt.xlabel('Epochs')\n",
    "plt.ylabel('Loss (MSE)')\n",
    "plt.title('Training Loss over 400 Epochs')\n",
    "plt.show()"
   ]
  },
  {
   "cell_type": "code",
   "execution_count": 9,
   "id": "5c8cd6c8-388a-4294-9a1b-5db68aabee2c",
   "metadata": {},
   "outputs": [
    {
     "name": "stdout",
     "output_type": "stream",
     "text": [
      "Epoch 0/400, Loss: 17.73300552368164\n",
      "Epoch 50/400, Loss: 5.015661716461182\n",
      "Epoch 100/400, Loss: 4.994784355163574\n",
      "Epoch 150/400, Loss: 4.993960380554199\n",
      "Epoch 200/400, Loss: 4.993415832519531\n",
      "Epoch 250/400, Loss: 4.993067741394043\n",
      "Epoch 300/400, Loss: 4.992757797241211\n",
      "Epoch 350/400, Loss: 4.992537021636963\n"
     ]
    },
    {
     "data": {
      "image/png": "[encoded data removed]",
      "text/plain": [
       "<Figure size 640x480 with 1 Axes>"
      ]
     },
     "metadata": {},
     "output_type": "display_data"
    }
   ],
   "source": [
    "import torch\n",
    "import torch.nn as nn\n",
    "import torch.optim as optim\n",
    "import numpy as np\n",
    "import matplotlib.pyplot as plt\n",
    "\n",
    "# Convert the NumPy arrays to PyTorch tensors\n",
    "X_tensor = torch.tensor(X, dtype=torch.float32)\n",
    "Y_tensor = torch.tensor(Y, dtype=torch.float32)\n",
    "\n",
    "class MLPModel(nn.Module):\n",
    "    def __init__(self):\n",
    "        super(MLPModel, self).__init__()\n",
    "        # Define layers\n",
    "        self.hidden = nn.Linear(2, 2)  # 2 input features, 2 neurons in the hidden layer\n",
    "        self.relu = nn.ReLU()  # ReLU activation for the hidden layer\n",
    "        self.output = nn.Linear(2, 1)  # 1 output neuron (CO)\n",
    "\n",
    "    def forward(self, x):\n",
    "        # Forward pass\n",
    "        x = self.hidden(x)  # Hidden layer computation\n",
    "        x = self.relu(x)     # ReLU activation\n",
    "        x = self.output(x)   # Output layer\n",
    "        return x\n",
    "\n",
    "# Initialize the model\n",
    "model = MLPModel()\n",
    "\n",
    "# Loss function: Mean Squared Error (MSE)\n",
    "criterion = nn.MSELoss()\n",
    "\n",
    "# Optimizer: Stochastic Gradient Descent (SGD)\n",
    "learning_rate = 0.03\n",
    "optimizer = optim.SGD(model.parameters(), lr=learning_rate)\n",
    "\n",
    "# Training loop\n",
    "def train_model(model, X_tensor, Y_tensor, epochs, optimizer, criterion):\n",
    "    loss_history = []  # To store loss values at each epoch\n",
    "\n",
    "    for epoch in range(epochs):\n",
    "        # Forward pass: Compute predicted Y by passing X to the model\n",
    "        Y_pred = model(X_tensor)\n",
    "\n",
    "        # Compute the loss\n",
    "        loss = criterion(Y_pred, Y_tensor)\n",
    "\n",
    "        # Backward pass: Compute gradients\n",
    "        optimizer.zero_grad()  # Clear previous gradients\n",
    "        loss.backward()        # Backpropagation\n",
    "\n",
    "        # Update parameters\n",
    "        optimizer.step()\n",
    "\n",
    "        # Store the loss\n",
    "        loss_history.append(loss.item())\n",
    "\n",
    "        # Print loss every 50 epochs\n",
    "        if epoch % 50 == 0:\n",
    "            print(f'Epoch {epoch}/{epochs}, Loss: {loss.item()}')\n",
    "\n",
    "    return loss_history\n",
    "\n",
    "# Train the model for 400 epochs\n",
    "epochs_400 = 400\n",
    "loss_history_400 = train_model(model, X_tensor, Y_tensor, epochs_400, optimizer, criterion)\n",
    "\n",
    "# Plot the loss over 400 epochs\n",
    "plt.plot(range(epochs_400), loss_history_400)\n",
    "plt.xlabel('Epochs')\n",
    "plt.ylabel('Loss (MSE)')\n",
    "plt.title('Training Loss over 400 Epochs (PyTorch)')\n",
    "plt.show()"
   ]
  }
 ],
 "metadata": {
  "kernelspec": {
   "display_name": "Python 3 (ipykernel)",
   "language": "python",
   "name": "python3"
  },
  "language_info": {
   "codemirror_mode": {
    "name": "ipython",
    "version": 3
   },
   "file_extension": ".py",
   "mimetype": "text/x-python",
   "name": "python",
   "nbconvert_exporter": "python",
   "pygments_lexer": "ipython3",
   "version": "3.12.3"
  }
 },
 "nbformat": 4,
 "nbformat_minor": 5
}
