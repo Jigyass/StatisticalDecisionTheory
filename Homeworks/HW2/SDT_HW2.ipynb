{
  "nbformat": 4,
  "nbformat_minor": 0,
  "metadata": {
    "colab": {
      "provenance": []
    },
    "kernelspec": {
      "name": "python3",
      "display_name": "Python 3"
    },
    "language_info": {
      "name": "python"
    }
  },
  "cells": [
    {
      "cell_type": "code",
      "execution_count": 1,
      "metadata": {
        "colab": {
          "base_uri": "https://localhost:8080/",
          "height": 0
        },
        "id": "R0zqZ1-95oRR",
        "outputId": "6e11bbbd-55ba-4d80-dd9a-c8c911ea53b3"
      },
      "outputs": [
        {
          "output_type": "stream",
          "name": "stdout",
          "text": [
            "Drive already mounted at /content/drive; to attempt to forcibly remount, call drive.mount(\"/content/drive\", force_remount=True).\n"
          ]
        }
      ],
      "source": [
        "from google.colab import drive\n",
        "drive.mount('/content/drive')"
      ]
    },
    {
      "cell_type": "code",
      "source": [
        "import numpy as np\n",
        "import torch\n",
        "import torch.nn as nn\n",
        "import torch.optim as optim\n",
        "\n",
        "data = np.genfromtxt('/content/drive/MyDrive/SDT/gt_2015.csv', skip_header=1, delimiter=',', usecols=(0, 3, 8, 9, 10))\n",
        "\n",
        "data_clean = data[~np.isnan(data).any(axis=1)]\n",
        "\n",
        "Y = torch.from_numpy(data_clean[:, [3,4]]).float()\n",
        "X = np.hstack((np.ones((data_clean.shape[0], 1)), data_clean[:, [0, 1, 2]]))\n",
        "X_tensor = torch.from_numpy(X).float()\n",
        "\n",
        "print(\"Shape of X:\", X_tensor.shape)\n",
        "\n",
        "print(\"Shape of Y:\", Y.shape)"
      ],
      "metadata": {
        "colab": {
          "base_uri": "https://localhost:8080/",
          "height": 0
        },
        "id": "tN51zT3X5yp3",
        "outputId": "c7c350cb-5489-452f-e14d-83cc09d28fc4"
      },
      "execution_count": 2,
      "outputs": [
        {
          "output_type": "stream",
          "name": "stdout",
          "text": [
            "Shape of X: torch.Size([7384, 4])\n",
            "Shape of Y: torch.Size([7384, 2])\n"
          ]
        }
      ]
    },
    {
      "cell_type": "code",
      "source": [
        "class LinearRegression(nn.Module):\n",
        "  def __init__(self, dimension_input, dimension_output):\n",
        "    super(LinearRegression, self).__init__()\n",
        "    self.linear = nn.Linear(dimension_input, dimension_output)\n",
        "  def forward(self, x):\n",
        "    return self.linear(x)\n",
        "\n",
        "dimension_input = X_tensor.shape[1]\n",
        "dimension_output = Y.shape[1]\n",
        "\n",
        "model = LinearRegression(dimension_input, dimension_output)\n",
        "\n",
        "print(model)"
      ],
      "metadata": {
        "colab": {
          "base_uri": "https://localhost:8080/",
          "height": 0
        },
        "id": "emLwnay67DsO",
        "outputId": "5a2fa8cc-224b-4c23-e37f-8295816f1258"
      },
      "execution_count": 3,
      "outputs": [
        {
          "output_type": "stream",
          "name": "stdout",
          "text": [
            "LinearRegression(\n",
            "  (linear): Linear(in_features=4, out_features=2, bias=True)\n",
            ")\n"
          ]
        }
      ]
    },
    {
      "cell_type": "code",
      "source": [
        "loss_function = nn.MSELoss()\n",
        "learning_rate = 1e-4\n",
        "optimizer = optim.SGD(model.parameters(), lr=learning_rate)\n",
        "\n",
        "print(\"Loss_function:\", loss_function)\n",
        "print(f\"Optimizer:{optimizer}\")"
      ],
      "metadata": {
        "colab": {
          "base_uri": "https://localhost:8080/",
          "height": 0
        },
        "id": "ilkyDQ2B8MnI",
        "outputId": "fa038c63-9780-4085-f7bf-22954795375e"
      },
      "execution_count": 4,
      "outputs": [
        {
          "output_type": "stream",
          "name": "stdout",
          "text": [
            "Loss_function: MSELoss()\n",
            "Optimizer:SGD (\n",
            "Parameter Group 0\n",
            "    dampening: 0\n",
            "    differentiable: False\n",
            "    foreach: None\n",
            "    fused: None\n",
            "    lr: 0.0001\n",
            "    maximize: False\n",
            "    momentum: 0\n",
            "    nesterov: False\n",
            "    weight_decay: 0\n",
            ")\n"
          ]
        }
      ]
    },
    {
      "cell_type": "code",
      "source": [
        "# Compute the closed-form solution using the normal equation\n",
        "X_T_X = X_tensor.T @ X_tensor\n",
        "X_T_Y = X_tensor.T @ Y\n",
        "B_closed = torch.inverse(X_T_X) @ X_T_Y\n",
        "\n",
        "# Compute predictions using the closed-form solution\n",
        "Y_pred_closed = X_tensor @ B_closed\n",
        "\n",
        "# Compute the MSE for the closed-form solution\n",
        "MSE_closed = loss_function(Y_pred_closed, Y).item()\n",
        "\n",
        "# Print the closed-form solution and its MSE\n",
        "print(\"Closed-form solution (B_closed):\\n\", B_closed)\n",
        "print(f\"Mean Squared Error (MSE) using closed-form solution: {MSE_closed:.4f}\")\n"
      ],
      "metadata": {
        "colab": {
          "base_uri": "https://localhost:8080/",
          "height": 0
        },
        "id": "tVK6genLSs6F",
        "outputId": "1c907d4a-0146-4dca-917f-95d384ce2cea"
      },
      "execution_count": 5,
      "outputs": [
        {
          "output_type": "stream",
          "name": "stdout",
          "text": [
            "Closed-form solution (B_closed):\n",
            " tensor([[ 1.8203e+01,  9.4398e+01],\n",
            "        [-8.1696e-02, -5.5624e-01],\n",
            "        [ 2.1198e-01, -7.4893e+00],\n",
            "        [-1.1928e+00,  1.6748e-01]])\n",
            "Mean Squared Error (MSE) using closed-form solution: 34.0582\n"
          ]
        }
      ]
    },
    {
      "cell_type": "code",
      "source": [
        "# Set the number of epochs (iterations)\n",
        "epochs = 1000  # You can adjust this based on your needs\n",
        "\n",
        "# Initialize an array to store the loss at each epoch\n",
        "losses = []\n",
        "\n",
        "for epoch in range(epochs):\n",
        "    # Zero the gradients from the previous step\n",
        "    optimizer.zero_grad()\n",
        "\n",
        "    # Forward pass: compute predicted Y by passing X to the model\n",
        "    Y_pred = model(X_tensor)\n",
        "\n",
        "    # Compute the loss\n",
        "    loss = loss_function(Y_pred, Y)\n",
        "\n",
        "    # Backward pass: compute gradient of the loss with respect to model parameters\n",
        "    loss.backward()\n",
        "\n",
        "    # Update model parameters\n",
        "    optimizer.step()\n",
        "\n",
        "    # Store the loss value for comparison later\n",
        "    losses.append(loss.item())\n",
        "\n",
        "    # Print the loss every 100 epochs\n",
        "    if (epoch+1) % 100 == 0:\n",
        "        print(f'Epoch [{epoch+1}/{epochs}], Loss: {loss.item():.4f}')\n",
        "\n",
        "# Print final loss\n",
        "print(f'Final Loss after Gradient Descent: {losses[-1]:.4f}')\n",
        "\n",
        "# Compare final MSE from gradient descent with the closed-form MSE\n",
        "print(f\"Closed-form MSE: {MSE_closed:.4f}\")\n",
        "print(f\"Final MSE after Gradient Descent: {losses[-1]:.4f}\")\n"
      ],
      "metadata": {
        "colab": {
          "base_uri": "https://localhost:8080/",
          "height": 0
        },
        "id": "v3DgSrON8zBu",
        "outputId": "6faa5174-a2a3-4093-beeb-34099acdcbf9"
      },
      "execution_count": 6,
      "outputs": [
        {
          "output_type": "stream",
          "name": "stdout",
          "text": [
            "Epoch [100/1000], Loss: 250.0823\n",
            "Epoch [200/1000], Loss: 198.3950\n",
            "Epoch [300/1000], Loss: 163.7311\n",
            "Epoch [400/1000], Loss: 140.4537\n",
            "Epoch [500/1000], Loss: 124.8133\n",
            "Epoch [600/1000], Loss: 114.2951\n",
            "Epoch [700/1000], Loss: 107.2123\n",
            "Epoch [800/1000], Loss: 102.4337\n",
            "Epoch [900/1000], Loss: 99.2006\n",
            "Epoch [1000/1000], Loss: 97.0041\n",
            "Final Loss after Gradient Descent: 97.0041\n",
            "Closed-form MSE: 34.0582\n",
            "Final MSE after Gradient Descent: 97.0041\n"
          ]
        }
      ]
    },
    {
      "cell_type": "code",
      "source": [
        "import matplotlib.pyplot as plt\n",
        "\n",
        "# Plot the MSE over epochs from gradient descent\n",
        "plt.figure(figsize=(8, 6))\n",
        "plt.plot(losses, label='Gradient Descent MSE', color='blue')\n",
        "\n",
        "# Plot a horizontal line showing the closed-form MSE\n",
        "plt.axhline(y=MSE_closed, color='red', linestyle='--', label='Closed-form MSE')\n",
        "\n",
        "# Add labels, title, and legend\n",
        "plt.xlabel('Epoch')\n",
        "plt.ylabel('Mean Squared Error (MSE)')\n",
        "plt.title('MSE Over Time for Gradient Descent')\n",
        "plt.legend()\n",
        "\n",
        "# Display the plot\n",
        "plt.show()\n"
      ],
      "metadata": {
        "colab": {
          "base_uri": "https://localhost:8080/",
          "height": 564
        },
        "id": "eLBM48l28_1v",
        "outputId": "1172f2d2-e216-41ad-ae48-9b8ecaa2ba2e"
      },
      "execution_count": 9,
      "outputs": [
        {
          "output_type": "display_data",
          "data": {
            "text/plain": [
              "<Figure size 800x600 with 1 Axes>"
            ],
            "image/png": "[encoded data removed]"
          },
          "metadata": {}
        }
      ]
    },
    {
      "cell_type": "code",
      "source": [],
      "metadata": {
        "id": "SluIgKJJ9XMr"
      },
      "execution_count": 7,
      "outputs": []
    }
  ]
}