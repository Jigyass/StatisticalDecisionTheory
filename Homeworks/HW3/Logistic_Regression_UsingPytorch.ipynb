{
 "cells": [
  {
   "cell_type": "code",
   "execution_count": 1,
   "id": "1d6513b7-308d-441f-b033-ab896961e58b",
   "metadata": {},
   "outputs": [
    {
     "name": "stdout",
     "output_type": "stream",
     "text": [
      "Feature matrix (X) shape: (210, 5)\n",
      "One-hot encoded labels (Y) shape: (210, 7)\n",
      "Parameter matrix (B) shape: (5, 7)\n"
     ]
    }
   ],
   "source": [
    "import numpy as np\n",
    "\n",
    "# Step 1: Load the labels (first column) and features (remaining columns) separately\n",
    "# Load the labels (class names) as strings (usecols=0)\n",
    "Y_labels = np.genfromtxt('/home/darksst/Desktop/Fall24/StatisticalDecisionTheory/Data/Image/segmentation.data', \n",
    "                         delimiter=',', dtype=str, encoding=None, usecols=0, skip_header=5)\n",
    "\n",
    "# Load the feature columns (usecols 5, 6, 7, 8, 9 for vedge-mean, vedge-sd, hedge-mean, hedge-sd, intensity-mean)\n",
    "X = np.genfromtxt('/home/darksst/Desktop/Fall24/StatisticalDecisionTheory/Data/Image/segmentation.data', \n",
    "                  delimiter=',', dtype=float, encoding=None, usecols=(5, 6, 7, 8, 9), skip_header=5)\n",
    "\n",
    "# Step 2: One-hot encode the class labels\n",
    "unique_classes = np.unique(Y_labels)  # Get the unique class names\n",
    "num_classes = len(unique_classes)\n",
    "\n",
    "# Create a one-hot encoded matrix for the labels\n",
    "Y = np.zeros((Y_labels.shape[0], num_classes))\n",
    "for i, label in enumerate(Y_labels):\n",
    "    Y[i, np.where(unique_classes == label)[0][0]] = 1\n",
    "\n",
    "# Initialize the parameter matrix B with zeros\n",
    "B = np.zeros((X.shape[1], Y.shape[1]))\n",
    "\n",
    "# Print shapes to verify everything is correct\n",
    "print(f\"Feature matrix (X) shape: {X.shape}\")\n",
    "print(f\"One-hot encoded labels (Y) shape: {Y.shape}\")\n",
    "print(f\"Parameter matrix (B) shape: {B.shape}\")\n"
   ]
  },
  {
   "cell_type": "code",
   "execution_count": 2,
   "id": "8169c4e1-9ccc-4f1f-980e-27c92cc357d0",
   "metadata": {},
   "outputs": [
    {
     "name": "stdout",
     "output_type": "stream",
     "text": [
      "Final parameters after training: Parameter containing:\n",
      "tensor([[ 0.0281, -0.0952,  0.0137,  0.1662, -0.3920],\n",
      "        [ 0.1252,  0.0334,  0.1899, -0.1473, -0.0165],\n",
      "        [-0.0134, -0.2591,  0.3697,  0.0199, -0.0665],\n",
      "        [-0.1591,  0.0973, -0.1845,  0.0171, -0.1005],\n",
      "        [ 0.1657,  0.1791,  0.0667, -0.2499,  0.0078],\n",
      "        [-0.0959,  0.0598, -0.4580,  0.0288, -0.1324],\n",
      "        [ 0.3226, -0.0350,  0.2024, -0.2399,  0.0010]], requires_grad=True) Parameter containing:\n",
      "tensor([ 0.1743, -0.3387, -0.3015,  0.0958,  0.2244,  0.1670, -0.1652],\n",
      "       requires_grad=True)\n",
      "Final Loss: 1.9319833517074585\n"
     ]
    },
    {
     "data": {
      "image/png": "[encoded data removed]",
      "text/plain": [
       "<Figure size 640x480 with 1 Axes>"
      ]
     },
     "metadata": {},
     "output_type": "display_data"
    }
   ],
   "source": [
    "import torch\n",
    "import torch.nn as nn\n",
    "import torch.optim as optim\n",
    "import matplotlib.pyplot as plt\n",
    "\n",
    "# Convert the NumPy arrays to PyTorch tensors\n",
    "X_tensor = torch.tensor(X, dtype=torch.float32)  # Feature matrix\n",
    "Y_tensor = torch.tensor(Y, dtype=torch.float32)  # One-hot encoded labels\n",
    "\n",
    "# Define the Logistic Regression model using PyTorch\n",
    "class LogisticRegression(nn.Module):\n",
    "    def __init__(self, dimension_input, dimension_output):\n",
    "        super(LogisticRegression, self).__init__()\n",
    "        # Define a single linear layer (this will be W*X + b)\n",
    "        self.linear = nn.Linear(dimension_input, dimension_output)\n",
    "    \n",
    "    def forward(self, x):\n",
    "        # Forward pass (logits)\n",
    "        return self.linear(x)\n",
    "\n",
    "# Set the input and output dimensions\n",
    "dimension_input = X_tensor.shape[1]   # Number of features\n",
    "dimension_output = Y_tensor.shape[1]  # Number of classes (one-hot encoding)\n",
    "\n",
    "# Initialize the model\n",
    "model = LogisticRegression(dimension_input, dimension_output)\n",
    "\n",
    "# Define the loss function (CrossEntropyLoss handles softmax + loss internally)\n",
    "criterion = nn.CrossEntropyLoss()\n",
    "\n",
    "# Define the optimizer\n",
    "optimizer = optim.SGD(model.parameters(), lr=0.0001)\n",
    "\n",
    "# Number of epochs\n",
    "epochs = 10000\n",
    "\n",
    "# Initialize a list to store the loss values for plotting\n",
    "loss_values = []\n",
    "\n",
    "# Training loop\n",
    "for epoch in range(epochs):\n",
    "    # Forward pass: compute logits\n",
    "    logits = model(X_tensor)\n",
    "\n",
    "    # Compute the loss (CrossEntropyLoss expects raw logits, no need for softmax)\n",
    "    loss = criterion(logits, torch.max(Y_tensor, 1)[1])  # Convert Y_tensor from one-hot to class labels\n",
    "\n",
    "    # Zero the gradients from the previous step\n",
    "    optimizer.zero_grad()\n",
    "\n",
    "    # Backward pass: compute gradients\n",
    "    loss.backward()\n",
    "\n",
    "    # Update the model parameters\n",
    "    optimizer.step()\n",
    "\n",
    "    # Store the loss value for plotting\n",
    "    loss_values.append(loss.item())\n",
    "\n",
    "# Print the final model parameters\n",
    "print(\"Final parameters after training:\", model.linear.weight, model.linear.bias)\n",
    "print(\"Final Loss:\", loss_values[-1])\n",
    "\n",
    "# Plot the loss over epochs using Matplotlib\n",
    "plt.plot(range(epochs), loss_values)\n",
    "plt.xlabel('Epochs')\n",
    "plt.ylabel('Loss')\n",
    "plt.title('Loss vs Epochs')\n",
    "plt.show()"
   ]
  }
 ],
 "metadata": {
  "kernelspec": {
   "display_name": "Python 3 (ipykernel)",
   "language": "python",
   "name": "python3"
  },
  "language_info": {
   "codemirror_mode": {
    "name": "ipython",
    "version": 3
   },
   "file_extension": ".py",
   "mimetype": "text/x-python",
   "name": "python",
   "nbconvert_exporter": "python",
   "pygments_lexer": "ipython3",
   "version": "3.12.3"
  }
 },
 "nbformat": 4,
 "nbformat_minor": 5
}
