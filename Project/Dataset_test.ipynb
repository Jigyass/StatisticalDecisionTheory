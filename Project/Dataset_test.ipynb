{
 "cells": [
  {
   "cell_type": "code",
   "execution_count": 35,
   "id": "53ef4847-9687-4eec-bd21-d3d85000d5ff",
   "metadata": {},
   "outputs": [
    {
     "name": "stdout",
     "output_type": "stream",
     "text": [
      "Lossless waveform shape: torch.Size([2, 33836963]), Sample rate: 88200\n",
      "Lossy waveform shape: torch.Size([2, 16918482]), Sample rate: 44100\n"
     ]
    }
   ],
   "source": [
    "import torchaudio\n",
    "import torch\n",
    "\n",
    "# Paths to the lossless and lossy songs\n",
    "lossless_path = \"/home/j597s263/scratch/j597s263/Datasets/Audio/Lossless/44\"\n",
    "lossy_path = \"/home/j597s263/scratch/j597s263/Datasets/Audio/Lossy/44\"\n",
    "\n",
    "# Load the lossless and lossy waveforms\n",
    "lossless_waveform, lossless_sample_rate = torchaudio.load(lossless_path)\n",
    "lossy_waveform, lossy_sample_rate = torchaudio.load(lossy_path)\n",
    "\n",
    "# Print shapes and sample rates\n",
    "print(f\"Lossless waveform shape: {lossless_waveform.shape}, Sample rate: {lossless_sample_rate}\")\n",
    "print(f\"Lossy waveform shape: {lossy_waveform.shape}, Sample rate: {lossy_sample_rate}\")"
   ]
  },
  {
   "cell_type": "code",
   "execution_count": 36,
   "id": "96137ed1-00a5-4aca-86a0-fc3d13618710",
   "metadata": {},
   "outputs": [
    {
     "name": "stdout",
     "output_type": "stream",
     "text": [
      "Lossless segment size: 88 samples\n",
      "Lossy segment size: 44 samples\n"
     ]
    }
   ],
   "source": [
    "# Segment duration in seconds\n",
    "segment_duration = 0.001  # Each segment corresponds to 0.1 seconds\n",
    "\n",
    "# Calculate segment size in samples\n",
    "lossless_segment_size = int(lossless_sample_rate * segment_duration)\n",
    "lossy_segment_size = int(lossy_sample_rate * segment_duration)\n",
    "\n",
    "print(f\"Lossless segment size: {lossless_segment_size} samples\")\n",
    "print(f\"Lossy segment size: {lossy_segment_size} samples\")"
   ]
  },
  {
   "cell_type": "code",
   "execution_count": 37,
   "id": "886585f0-e64a-4647-b366-e7574f31eaaf",
   "metadata": {},
   "outputs": [
    {
     "name": "stdout",
     "output_type": "stream",
     "text": [
      "Aligned number of segments: 384510 == 384510\n"
     ]
    }
   ],
   "source": [
    "# Split the lossless waveform into fixed-size segments\n",
    "lossless_segments = [\n",
    "    lossless_waveform[:, i:i + lossless_segment_size]\n",
    "    for i in range(0, lossless_waveform.shape[1], lossless_segment_size)\n",
    "    if lossless_waveform[:, i:i + lossless_segment_size].shape[1] == lossless_segment_size\n",
    "]\n",
    "\n",
    "# Split the lossy waveform into fixed-size segments\n",
    "lossy_segments = [\n",
    "    lossy_waveform[:, i:i + lossy_segment_size]\n",
    "    for i in range(0, lossy_waveform.shape[1], lossy_segment_size)\n",
    "    if lossy_waveform[:, i:i + lossy_segment_size].shape[1] == lossy_segment_size\n",
    "]\n",
    "\n",
    "# Pad each lossy segment to match the size of the lossless segments\n",
    "padded_lossy_segments = []\n",
    "for lossy_segment, lossless_segment in zip(lossy_segments, lossless_segments):\n",
    "    current_size = lossy_segment.shape[1]\n",
    "    target_size = lossless_segment.shape[1]\n",
    "    if current_size < target_size:\n",
    "        # Calculate random padding\n",
    "        front_pad = torch.randint(0, target_size - current_size + 1, (1,)).item()\n",
    "        back_pad = target_size - current_size - front_pad\n",
    "        padded_segment = torch.nn.functional.pad(lossy_segment, (front_pad, back_pad))\n",
    "    else:\n",
    "        padded_segment = lossy_segment\n",
    "    padded_lossy_segments.append(padded_segment)\n",
    "\n",
    "print(f\"Aligned number of segments: {len(lossless_segments)} == {len(padded_lossy_segments)}\")"
   ]
  },
  {
   "cell_type": "code",
   "execution_count": 38,
   "id": "3ae46598-3286-4679-ab16-0bae43c5ba80",
   "metadata": {},
   "outputs": [
    {
     "name": "stdout",
     "output_type": "stream",
     "text": [
      "Memory usage per pair of segments: 1.38 KB\n"
     ]
    }
   ],
   "source": [
    "# Calculate memory usage per segment\n",
    "segment_memory_lossless = lossless_segments[0].nelement() * torch.finfo(lossless_segments[0].dtype).bits / 8  # bytes\n",
    "segment_memory_lossy = padded_lossy_segments[0].nelement() * torch.finfo(padded_lossy_segments[0].dtype).bits / 8  # bytes\n",
    "\n",
    "# Memory per pair of segments\n",
    "pair_memory = segment_memory_lossless + segment_memory_lossy\n",
    "print(f\"Memory usage per pair of segments: {pair_memory / 1024:.2f} KB\")"
   ]
  },
  {
   "cell_type": "code",
   "execution_count": 39,
   "id": "a3caeb33-191e-4265-918f-282be513f298",
   "metadata": {},
   "outputs": [
    {
     "name": "stdout",
     "output_type": "stream",
     "text": [
      "Total memory usage for one pair of songs: 516.31 MB\n"
     ]
    }
   ],
   "source": [
    "# Total number of segments\n",
    "total_segments = len(lossless_segments)\n",
    "\n",
    "# Total memory usage for the song pair\n",
    "total_memory = total_segments * pair_memory\n",
    "print(f\"Total memory usage for one pair of songs: {total_memory / (1024 ** 2):.2f} MB\")"
   ]
  },
  {
   "cell_type": "code",
   "execution_count": 1,
   "id": "ce11fada-fddd-486f-801e-1e99439e9e8a",
   "metadata": {},
   "outputs": [],
   "source": [
    "import os\n",
    "import torch\n",
    "import torchaudio\n",
    "import random\n",
    "import torchaudio.transforms as T\n",
    "\n",
    "class AudioDataset:\n",
    "    def __init__(self, lossless_dir, lossy_dir, segment_duration=0.1):\n",
    "        \"\"\"\n",
    "        Initializes the dataset and processes songs one by one, adding valid pairs to the dataset.\n",
    "        \"\"\"\n",
    "        self.lossless_files = sorted(\n",
    "            [os.path.join(lossless_dir, f) for f in os.listdir(lossless_dir) if os.path.isfile(os.path.join(lossless_dir, f))]\n",
    "        )\n",
    "        self.lossy_files = sorted(\n",
    "            [os.path.join(lossy_dir, f) for f in os.listdir(lossy_dir) if os.path.isfile(os.path.join(lossy_dir, f))]\n",
    "        )\n",
    "\n",
    "        assert len(self.lossless_files) == len(self.lossy_files), \"Mismatch in number of lossless and lossy files!\"\n",
    "\n",
    "        self.segment_duration = segment_duration\n",
    "        self.data = []  # Store valid segment pairs in memory\n",
    "\n",
    "    def process_and_add(self):\n",
    "        \"\"\"\n",
    "        Processes each song and adds valid pairs (with matching segment counts) to the dataset.\n",
    "        \"\"\"\n",
    "        for idx, (lossless_path, lossy_path) in enumerate(zip(self.lossless_files, self.lossy_files)):\n",
    "            song_data = self.process_pair(lossless_path, lossy_path)\n",
    "            if song_data:  # Only add if the song pair is valid\n",
    "                self.data.extend(song_data)\n",
    "            if (idx + 1) % 10 == 0:\n",
    "                print(f\"Processed {idx + 1}/{len(self.lossless_files)} songs...\")\n",
    "\n",
    "        print(f\"Dataset created with {len(self.data)} valid segment pairs.\")\n",
    "\n",
    "    def process_pair(self, lossless_path, lossy_path):\n",
    "        \"\"\"\n",
    "        Processes a pair of lossless and lossy files into aligned stereo segments.\n",
    "        Excludes the pair if the number of segments is unequal.\n",
    "        \"\"\"\n",
    "        lossless_segments, lossless_segment_size = self.preprocess(lossless_path)\n",
    "        lossy_segments, lossy_segment_size = self.preprocess(lossy_path)\n",
    "\n",
    "        # Exclude songs with unequal segment counts\n",
    "        if len(lossless_segments) != len(lossy_segments):\n",
    "            print(f\"Skipping {lossless_path} and {lossy_path} due to unequal segments.\")\n",
    "            return []\n",
    "\n",
    "        # Randomly pad lossy segments to match lossless size\n",
    "        padded_lossy_segments = [\n",
    "            self.random_pad(lossy_segment, lossless_segment.shape[1])\n",
    "            for lossy_segment, lossless_segment in zip(lossy_segments, lossless_segments)\n",
    "        ]\n",
    "\n",
    "        return list(zip(padded_lossy_segments, lossless_segments))\n",
    "\n",
    "    def preprocess(self, file_path):\n",
    "        \"\"\"\n",
    "        Loads an audio file, calculates dynamic segment size, and splits into stereo segments.\n",
    "        \"\"\"\n",
    "        waveform, sample_rate = torchaudio.load(file_path)\n",
    "\n",
    "        # Calculate segment size dynamically\n",
    "        segment_size = int(sample_rate * self.segment_duration)\n",
    "\n",
    "        # Split waveform into fixed-size segments\n",
    "        segments = [\n",
    "            waveform[:, i:i + segment_size]\n",
    "            for i in range(0, waveform.shape[1], segment_size)\n",
    "            if waveform[:, i:i + segment_size].shape[1] == segment_size\n",
    "        ]\n",
    "        return segments, segment_size\n",
    "\n",
    "    def random_pad(self, segment, target_size):\n",
    "        \"\"\"\n",
    "        Randomly pads the input segment to match the target size.\n",
    "        \"\"\"\n",
    "        current_size = segment.shape[1]\n",
    "        if current_size >= target_size:\n",
    "            return segment  # No padding needed\n",
    "\n",
    "        # Calculate padding size\n",
    "        padding_size = target_size - current_size\n",
    "        front_pad = random.randint(0, padding_size)\n",
    "        back_pad = padding_size - front_pad\n",
    "\n",
    "        return torch.nn.functional.pad(segment, (front_pad, back_pad))\n",
    "\n",
    "    def __len__(self):\n",
    "        return len(self.data)\n",
    "\n",
    "    def __getitem__(self, idx):\n",
    "        \"\"\"\n",
    "        Returns a single pair of lossy and lossless stereo segments.\n",
    "        \"\"\"\n",
    "        return self.data[idx]\n"
   ]
  },
  {
   "cell_type": "code",
   "execution_count": 8,
   "id": "822879a7-5022-463d-b68d-f511059d4f41",
   "metadata": {},
   "outputs": [
    {
     "name": "stdout",
     "output_type": "stream",
     "text": [
      "Processed 10/36 songs...\n",
      "Processed 20/36 songs...\n",
      "Processed 30/36 songs...\n",
      "Dataset created with 675015 valid segment pairs.\n",
      "Total number of segment pairs: 675015\n"
     ]
    }
   ],
   "source": [
    "lossless_dir = \"/home/j597s263/scratch/j597s263/Datasets/Audio/Lossless/temp/\"\n",
    "lossy_dir = \"/home/j597s263/scratch/j597s263/Datasets/Audio/Lossy/temp\"\n",
    "\n",
    "# Create the dataset processor\n",
    "dataset = AudioDataset(lossless_dir, lossy_dir, segment_duration=0.01)\n",
    "\n",
    "# Process songs one by one\n",
    "dataset.process_and_add()\n",
    "\n",
    "# Check the size of the dataset\n",
    "print(f\"Total number of segment pairs: {len(dataset)}\")\n"
   ]
  },
  {
   "cell_type": "code",
   "execution_count": 6,
   "id": "46115eb2-c0cf-48f2-a5f7-f1c6cd2a58c4",
   "metadata": {},
   "outputs": [
    {
     "data": {
      "text/plain": [
       "torch.Size([2, 480])"
      ]
     },
     "execution_count": 6,
     "metadata": {},
     "output_type": "execute_result"
    }
   ],
   "source": [
    "dataset[1][1].shape"
   ]
  },
  {
   "cell_type": "code",
   "execution_count": 9,
   "id": "292d9bf8-ad63-4fd8-a760-27e23746d37d",
   "metadata": {},
   "outputs": [
    {
     "name": "stdout",
     "output_type": "stream",
     "text": [
      "Total memory usage of the dataset: 4943.96 MB\n"
     ]
    }
   ],
   "source": [
    "# Memory usage of a single data point\n",
    "lossy_segment, lossless_segment = dataset[0]\n",
    "single_pair_memory = (lossy_segment.element_size() * lossy_segment.nelement() +\n",
    "                      lossless_segment.element_size() * lossless_segment.nelement())  # In bytes\n",
    "\n",
    "# Total memory usage\n",
    "total_memory = single_pair_memory * len(dataset)  # In bytes\n",
    "total_memory_mb = total_memory / (1024 ** 2)  # Convert to MB\n",
    "print(f\"Total memory usage of the dataset: {total_memory_mb:.2f} MB\")\n"
   ]
  },
  {
   "cell_type": "code",
   "execution_count": 10,
   "id": "533e376f-49a3-4a4c-8138-eb3661442eb9",
   "metadata": {},
   "outputs": [
    {
     "data": {
      "text/plain": [
       "torch.Size([2, 480])"
      ]
     },
     "execution_count": 10,
     "metadata": {},
     "output_type": "execute_result"
    }
   ],
   "source": [
    "dataset[0][0].shape"
   ]
  },
  {
   "cell_type": "code",
   "execution_count": 11,
   "id": "29517293-9fc5-4229-bc94-a827e260e769",
   "metadata": {},
   "outputs": [
    {
     "ename": "FileNotFoundError",
     "evalue": "[Errno 2] No such file or directory: '/home/j597s263/scratch/j597s263/Datasets/Audio/Dataset/data_0.01.pkl'",
     "output_type": "error",
     "traceback": [
      "\u001b[0;31m---------------------------------------------------------------------------\u001b[0m",
      "\u001b[0;31mFileNotFoundError\u001b[0m                         Traceback (most recent call last)",
      "Cell \u001b[0;32mIn[11], line 7\u001b[0m\n\u001b[1;32m      4\u001b[0m output_file \u001b[38;5;241m=\u001b[39m \u001b[38;5;124m'\u001b[39m\u001b[38;5;124m/home/j597s263/scratch/j597s263/Datasets/Audio/Dataset/data_0.01.pkl\u001b[39m\u001b[38;5;124m'\u001b[39m\n\u001b[1;32m      6\u001b[0m \u001b[38;5;66;03m# Save the dataset to a file\u001b[39;00m\n\u001b[0;32m----> 7\u001b[0m \u001b[38;5;28;01mwith\u001b[39;00m \u001b[38;5;28;43mopen\u001b[39;49m\u001b[43m(\u001b[49m\u001b[43moutput_file\u001b[49m\u001b[43m,\u001b[49m\u001b[43m \u001b[49m\u001b[38;5;124;43m'\u001b[39;49m\u001b[38;5;124;43mwb\u001b[39;49m\u001b[38;5;124;43m'\u001b[39;49m\u001b[43m)\u001b[49m \u001b[38;5;28;01mas\u001b[39;00m f:\n\u001b[1;32m      8\u001b[0m     pickle\u001b[38;5;241m.\u001b[39mdump(dataset\u001b[38;5;241m.\u001b[39mdata, f)\n\u001b[1;32m     10\u001b[0m \u001b[38;5;28mprint\u001b[39m(\u001b[38;5;124mf\u001b[39m\u001b[38;5;124m\"\u001b[39m\u001b[38;5;124mDataset saved to \u001b[39m\u001b[38;5;132;01m{\u001b[39;00moutput_file\u001b[38;5;132;01m}\u001b[39;00m\u001b[38;5;124m.\u001b[39m\u001b[38;5;124m\"\u001b[39m)\n",
      "File \u001b[0;32m/moosefs/scratch/j597s263/j597s263/StatisticalDecisionTheory/Audio/lib64/python3.9/site-packages/IPython/core/interactiveshell.py:310\u001b[0m, in \u001b[0;36m_modified_open\u001b[0;34m(file, *args, **kwargs)\u001b[0m\n\u001b[1;32m    303\u001b[0m \u001b[38;5;28;01mif\u001b[39;00m file \u001b[38;5;129;01min\u001b[39;00m {\u001b[38;5;241m0\u001b[39m, \u001b[38;5;241m1\u001b[39m, \u001b[38;5;241m2\u001b[39m}:\n\u001b[1;32m    304\u001b[0m     \u001b[38;5;28;01mraise\u001b[39;00m \u001b[38;5;167;01mValueError\u001b[39;00m(\n\u001b[1;32m    305\u001b[0m         \u001b[38;5;124mf\u001b[39m\u001b[38;5;124m\"\u001b[39m\u001b[38;5;124mIPython won\u001b[39m\u001b[38;5;124m'\u001b[39m\u001b[38;5;124mt let you open fd=\u001b[39m\u001b[38;5;132;01m{\u001b[39;00mfile\u001b[38;5;132;01m}\u001b[39;00m\u001b[38;5;124m by default \u001b[39m\u001b[38;5;124m\"\u001b[39m\n\u001b[1;32m    306\u001b[0m         \u001b[38;5;124m\"\u001b[39m\u001b[38;5;124mas it is likely to crash IPython. If you know what you are doing, \u001b[39m\u001b[38;5;124m\"\u001b[39m\n\u001b[1;32m    307\u001b[0m         \u001b[38;5;124m\"\u001b[39m\u001b[38;5;124myou can use builtins\u001b[39m\u001b[38;5;124m'\u001b[39m\u001b[38;5;124m open.\u001b[39m\u001b[38;5;124m\"\u001b[39m\n\u001b[1;32m    308\u001b[0m     )\n\u001b[0;32m--> 310\u001b[0m \u001b[38;5;28;01mreturn\u001b[39;00m \u001b[43mio_open\u001b[49m\u001b[43m(\u001b[49m\u001b[43mfile\u001b[49m\u001b[43m,\u001b[49m\u001b[43m \u001b[49m\u001b[38;5;241;43m*\u001b[39;49m\u001b[43margs\u001b[49m\u001b[43m,\u001b[49m\u001b[43m \u001b[49m\u001b[38;5;241;43m*\u001b[39;49m\u001b[38;5;241;43m*\u001b[39;49m\u001b[43mkwargs\u001b[49m\u001b[43m)\u001b[49m\n",
      "\u001b[0;31mFileNotFoundError\u001b[0m: [Errno 2] No such file or directory: '/home/j597s263/scratch/j597s263/Datasets/Audio/Dataset/data_0.01.pkl'"
     ]
    }
   ],
   "source": [
    "import pickle\n",
    "\n",
    "# Path to save the dataset\n",
    "output_file = '/home/j597s263/scratch/j597s263/Datasets/Audio/Dataset/data_0.01.pkl'\n",
    "\n",
    "# Save the dataset to a file\n",
    "with open(output_file, 'wb') as f:\n",
    "    pickle.dump(dataset.data, f)\n",
    "\n",
    "print(f\"Dataset saved to {output_file}.\")\n"
   ]
  },
  {
   "cell_type": "code",
   "execution_count": null,
   "id": "2c886436-d667-42df-8181-40b1dcb65d57",
   "metadata": {},
   "outputs": [],
   "source": []
  }
 ],
 "metadata": {
  "kernelspec": {
   "display_name": "Python 3 (ipykernel)",
   "language": "python",
   "name": "python3"
  },
  "language_info": {
   "codemirror_mode": {
    "name": "ipython",
    "version": 3
   },
   "file_extension": ".py",
   "mimetype": "text/x-python",
   "name": "python",
   "nbconvert_exporter": "python",
   "pygments_lexer": "ipython3",
   "version": "3.9.18"
  }
 },
 "nbformat": 4,
 "nbformat_minor": 5
}
