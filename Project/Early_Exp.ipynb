{
 "cells": [
  {
   "cell_type": "code",
   "execution_count": 1,
   "id": "34e68ccb-7065-46d0-afe4-8255105f9bc1",
   "metadata": {},
   "outputs": [],
   "source": [
    "import os\n",
    "import torchaudio\n",
    "import torch\n",
    "import torchvision\n",
    "import matplotlib as plt"
   ]
  },
  {
   "cell_type": "code",
   "execution_count": 2,
   "id": "a6dcc590-32d5-4bba-99d0-8481733ec32e",
   "metadata": {},
   "outputs": [
    {
     "name": "stdout",
     "output_type": "stream",
     "text": [
      "Loaded: /home/j597s263/scratch/j597s263/Datasets/Audio/Lossless/100\n",
      "Waveform shape: torch.Size([2, 12068352]), Sample rate: 48000\n"
     ]
    }
   ],
   "source": [
    "def load_audio(path):\n",
    "    waveform, sample_rate = torchaudio.load(path)\n",
    "    print(f\"Loaded: {path}\")\n",
    "    print(f\"Waveform shape: {waveform.shape}, Sample rate: {sample_rate}\")\n",
    "    return waveform, sample_rate\n",
    "\n",
    "check, two = load_audio(\"/home/j597s263/scratch/j597s263/Datasets/Audio/Lossless/100\")"
   ]
  },
  {
   "cell_type": "code",
   "execution_count": 3,
   "id": "bc8a74e3-b598-4bfc-8f39-9ff7c54bc682",
   "metadata": {},
   "outputs": [
    {
     "name": "stdout",
     "output_type": "stream",
     "text": [
      "Loaded: /home/j597s263/scratch/j597s263/Datasets/Audio/Lossy/100\n",
      "Waveform shape: torch.Size([2, 11087799]), Sample rate: 44100\n"
     ]
    }
   ],
   "source": [
    "some, one = load_audio(\"/home/j597s263/scratch/j597s263/Datasets/Audio/Lossy/100\")"
   ]
  },
  {
   "cell_type": "code",
   "execution_count": 4,
   "id": "a092fdc2-d083-41e6-91f1-d7d61c65ce44",
   "metadata": {},
   "outputs": [
    {
     "name": "stdout",
     "output_type": "stream",
     "text": [
      "Total segments: 125712\n",
      "Shape of each segment: torch.Size([2, 96])\n"
     ]
    }
   ],
   "source": [
    "def split_into_segments(waveform, segment_size):\n",
    "    \"\"\"\n",
    "    Splits the waveform into fixed-size segments.\n",
    "    Args:\n",
    "        waveform: Tensor of shape [2, total_samples].\n",
    "        segment_size: Number of samples per segment (e.g., 96).\n",
    "    Returns:\n",
    "        List of waveform segments.\n",
    "    \"\"\"\n",
    "    total_samples = waveform.shape[1]\n",
    "    # Ensure padding if the waveform length is not a multiple of segment_size\n",
    "    pad_length = (segment_size - total_samples % segment_size) % segment_size\n",
    "    if pad_length > 0:\n",
    "        waveform = torch.nn.functional.pad(waveform, (0, pad_length))\n",
    "\n",
    "    # Split the waveform\n",
    "    segments = [\n",
    "        waveform[:, i:i + segment_size]\n",
    "        for i in range(0, waveform.shape[1], segment_size)\n",
    "    ]\n",
    "    return segments\n",
    "\n",
    "# Define segment size\n",
    "segment_size = 96\n",
    "\n",
    "# Split the audio\n",
    "segments = split_into_segments(check, segment_size)\n",
    "\n",
    "print(f\"Total segments: {len(segments)}\")\n",
    "print(f\"Shape of each segment: {segments[0].shape}\")\n"
   ]
  },
  {
   "cell_type": "code",
   "execution_count": 5,
   "id": "de4fd25c-33fa-4aaa-8448-82f457425f4f",
   "metadata": {},
   "outputs": [],
   "source": [
    "def split_into_segments(waveform, segment_length=48000):\n",
    "    \"\"\"\n",
    "    Splits a waveform into 1-second segments.\n",
    "    \"\"\"\n",
    "    num_samples = waveform.shape[0]\n",
    "    segments = []\n",
    "    for i in range(0, num_samples, segment_length):\n",
    "        segment = waveform[i:i + segment_length]\n",
    "        if segment.shape[0] == segment_length:  # Ensure complete segment\n",
    "            segments.append(segment)\n",
    "    return torch.stack(segments)  # Stack into a tensor of shape [num_segments, segment_length]"
   ]
  },
  {
   "cell_type": "code",
   "execution_count": 6,
   "id": "96861ff0-b94f-4925-bb32-a0be8bbf6cd3",
   "metadata": {},
   "outputs": [],
   "source": [
    "def preprocess_and_split(file_path, segment_duration=1):\n",
    "    \"\"\"\n",
    "    Preprocess and split audio into 1-second segments based on the audio's sample rate.\n",
    "    \"\"\"\n",
    "    # Load audio\n",
    "    waveform, sample_rate = load_audio(file_path)\n",
    "    \n",
    "    # Flatten stereo channels\n",
    "    waveform = waveform.flatten()\n",
    "    \n",
    "    # Calculate the number of samples per segment (1 second)\n",
    "    segment_length = sample_rate * segment_duration  # Samples in 1 second\n",
    "    \n",
    "    # Split into 1-second segments\n",
    "    segments = split_into_segments(waveform, segment_length)\n",
    "    \n",
    "    print(f\"Processed {len(segments)} segments from {file_path}, each with duration {segment_duration}s.\")\n",
    "    return segments, sample_rate\n",
    "def split_into_segments(waveform, segment_length):\n",
    "    \"\"\"\n",
    "    Splits a waveform into fixed-duration segments.\n",
    "    \"\"\"\n",
    "    num_samples = waveform.shape[0]\n",
    "    segments = []\n",
    "    for i in range(0, num_samples, segment_length):\n",
    "        segment = waveform[i:i + segment_length]\n",
    "        if segment.shape[0] == segment_length:  # Ensure complete segment\n",
    "            segments.append(segment)\n",
    "    return torch.stack(segments)  # Stack into a tensor of shape [num_segments, segment_length]"
   ]
  },
  {
   "cell_type": "code",
   "execution_count": 8,
   "id": "69df42af-6bc0-4ec8-9f53-ae3cbfb3a2d3",
   "metadata": {},
   "outputs": [
    {
     "name": "stdout",
     "output_type": "stream",
     "text": [
      "Loaded: /home/j597s263/scratch/j597s263/Datasets/Audio/Lossless/5\n",
      "Waveform shape: torch.Size([2, 7905600]), Sample rate: 48000\n",
      "Processed 329 segments from /home/j597s263/scratch/j597s263/Datasets/Audio/Lossless/5, each with duration 1s.\n",
      "Loaded: /home/j597s263/scratch/j597s263/Datasets/Audio/Lossy/5\n",
      "Waveform shape: torch.Size([2, 5270400]), Sample rate: 32000\n",
      "Processed 329 segments from /home/j597s263/scratch/j597s263/Datasets/Audio/Lossy/5, each with duration 1s.\n",
      "Segments aligned: 329 segments each.\n"
     ]
    }
   ],
   "source": [
    "# Process lossless and lossy files\n",
    "lossless_segments, lossless_sr = preprocess_and_split(\"/home/j597s263/scratch/j597s263/Datasets/Audio/Lossless/5\")\n",
    "lossy_segments, lossy_sr = preprocess_and_split(\"/home/j597s263/scratch/j597s263/Datasets/Audio/Lossy/5\")\n",
    "\n",
    "# Check if the number of segments is the same\n",
    "assert len(lossless_segments) == len(lossy_segments), \"Mismatch in segment counts!\"\n",
    "print(f\"Segments aligned: {len(lossless_segments)} segments each.\")"
   ]
  },
  {
   "cell_type": "code",
   "execution_count": 9,
   "id": "7308e00e-265b-4870-a6eb-486180649a91",
   "metadata": {},
   "outputs": [],
   "source": [
    "dataset = list(zip(lossy_segments, lossless_segments))\n"
   ]
  },
  {
   "cell_type": "code",
   "execution_count": 11,
   "id": "2bbdb699-388b-4aaa-b705-b8b2143ff840",
   "metadata": {},
   "outputs": [
    {
     "data": {
      "image/png": "[encoded data removed]",
      "text/plain": [
       "<Figure size 1000x400 with 2 Axes>"
      ]
     },
     "metadata": {},
     "output_type": "display_data"
    }
   ],
   "source": [
    "import matplotlib.pyplot as plt\n",
    "\n",
    "def plot_waveforms(lossy, lossless, idx, save_path=None):\n",
    "    plt.figure(figsize=(10, 4))\n",
    "    plt.subplot(1, 2, 1)\n",
    "    plt.title(\"Lossy Audio\")\n",
    "    plt.plot(lossy[idx].numpy())\n",
    "    plt.subplot(1, 2, 2)\n",
    "    plt.title(\"Lossless Audio\")\n",
    "    plt.plot(lossless[idx].numpy())\n",
    "    if save_path:\n",
    "        plt.savefig(save_path, dpi=300, bbox_inches='tight')  # Save the plot\n",
    "    plt.show()\n",
    "\n",
    "# Example usage\n",
    "plot_waveforms(lossy_segments, lossless_segments, idx=0, save_path=\"/home/j597s263/scratch/j597s263/StatisticalDecisionTheory/fig1.png\")\n"
   ]
  },
  {
   "cell_type": "code",
   "execution_count": 5,
   "id": "86ac3144-245d-402c-946c-dd7b781e1e06",
   "metadata": {},
   "outputs": [
    {
     "ename": "RuntimeError",
     "evalue": "Couldn't find appropriate backend to handle uri /home/j597s263/scratch/j597s263/Datasets/Audio/Lossless/1.flac and format None.",
     "output_type": "error",
     "traceback": [
      "\u001b[0;31m---------------------------------------------------------------------------\u001b[0m",
      "\u001b[0;31mRuntimeError\u001b[0m                              Traceback (most recent call last)",
      "Cell \u001b[0;32mIn[5], line 8\u001b[0m\n\u001b[1;32m      6\u001b[0m \u001b[38;5;66;03m# Load a test audio file\u001b[39;00m\n\u001b[1;32m      7\u001b[0m test_file \u001b[38;5;241m=\u001b[39m \u001b[38;5;124m\"\u001b[39m\u001b[38;5;124m/home/j597s263/scratch/j597s263/Datasets/Audio/Lossless/1.flac\u001b[39m\u001b[38;5;124m\"\u001b[39m\n\u001b[0;32m----> 8\u001b[0m waveform, sample_rate \u001b[38;5;241m=\u001b[39m \u001b[43mtorchaudio\u001b[49m\u001b[38;5;241;43m.\u001b[39;49m\u001b[43mload\u001b[49m\u001b[43m(\u001b[49m\u001b[43mtest_file\u001b[49m\u001b[43m)\u001b[49m\n\u001b[1;32m     10\u001b[0m \u001b[38;5;66;03m# Print the initial shape and sample rate\u001b[39;00m\n\u001b[1;32m     11\u001b[0m \u001b[38;5;28mprint\u001b[39m(\u001b[38;5;124mf\u001b[39m\u001b[38;5;124m\"\u001b[39m\u001b[38;5;124mLoaded waveform shape: \u001b[39m\u001b[38;5;132;01m{\u001b[39;00mwaveform\u001b[38;5;241m.\u001b[39mshape\u001b[38;5;132;01m}\u001b[39;00m\u001b[38;5;124m, Sample rate: \u001b[39m\u001b[38;5;132;01m{\u001b[39;00msample_rate\u001b[38;5;132;01m}\u001b[39;00m\u001b[38;5;124m\"\u001b[39m)\n",
      "File \u001b[0;32m~/.local/lib/python3.9/site-packages/torchaudio/_backend/utils.py:204\u001b[0m, in \u001b[0;36mget_load_func.<locals>.load\u001b[0;34m(uri, frame_offset, num_frames, normalize, channels_first, format, buffer_size, backend)\u001b[0m\n\u001b[1;32m    118\u001b[0m \u001b[38;5;28;01mdef\u001b[39;00m \u001b[38;5;21mload\u001b[39m(\n\u001b[1;32m    119\u001b[0m     uri: Union[BinaryIO, \u001b[38;5;28mstr\u001b[39m, os\u001b[38;5;241m.\u001b[39mPathLike],\n\u001b[1;32m    120\u001b[0m     frame_offset: \u001b[38;5;28mint\u001b[39m \u001b[38;5;241m=\u001b[39m \u001b[38;5;241m0\u001b[39m,\n\u001b[0;32m   (...)\u001b[0m\n\u001b[1;32m    126\u001b[0m     backend: Optional[\u001b[38;5;28mstr\u001b[39m] \u001b[38;5;241m=\u001b[39m \u001b[38;5;28;01mNone\u001b[39;00m,\n\u001b[1;32m    127\u001b[0m ) \u001b[38;5;241m-\u001b[39m\u001b[38;5;241m>\u001b[39m Tuple[torch\u001b[38;5;241m.\u001b[39mTensor, \u001b[38;5;28mint\u001b[39m]:\n\u001b[1;32m    128\u001b[0m \u001b[38;5;250m    \u001b[39m\u001b[38;5;124;03m\"\"\"Load audio data from source.\u001b[39;00m\n\u001b[1;32m    129\u001b[0m \n\u001b[1;32m    130\u001b[0m \u001b[38;5;124;03m    By default (``normalize=True``, ``channels_first=True``), this function returns Tensor with\u001b[39;00m\n\u001b[0;32m   (...)\u001b[0m\n\u001b[1;32m    202\u001b[0m \u001b[38;5;124;03m            `[channel, time]` else `[time, channel]`.\u001b[39;00m\n\u001b[1;32m    203\u001b[0m \u001b[38;5;124;03m    \"\"\"\u001b[39;00m\n\u001b[0;32m--> 204\u001b[0m     backend \u001b[38;5;241m=\u001b[39m \u001b[43mdispatcher\u001b[49m\u001b[43m(\u001b[49m\u001b[43muri\u001b[49m\u001b[43m,\u001b[49m\u001b[43m \u001b[49m\u001b[38;5;28;43mformat\u001b[39;49m\u001b[43m,\u001b[49m\u001b[43m \u001b[49m\u001b[43mbackend\u001b[49m\u001b[43m)\u001b[49m\n\u001b[1;32m    205\u001b[0m     \u001b[38;5;28;01mreturn\u001b[39;00m backend\u001b[38;5;241m.\u001b[39mload(uri, frame_offset, num_frames, normalize, channels_first, \u001b[38;5;28mformat\u001b[39m, buffer_size)\n",
      "File \u001b[0;32m~/.local/lib/python3.9/site-packages/torchaudio/_backend/utils.py:116\u001b[0m, in \u001b[0;36mget_load_func.<locals>.dispatcher\u001b[0;34m(uri, format, backend_name)\u001b[0m\n\u001b[1;32m    114\u001b[0m     \u001b[38;5;28;01mif\u001b[39;00m backend\u001b[38;5;241m.\u001b[39mcan_decode(uri, \u001b[38;5;28mformat\u001b[39m):\n\u001b[1;32m    115\u001b[0m         \u001b[38;5;28;01mreturn\u001b[39;00m backend\n\u001b[0;32m--> 116\u001b[0m \u001b[38;5;28;01mraise\u001b[39;00m \u001b[38;5;167;01mRuntimeError\u001b[39;00m(\u001b[38;5;124mf\u001b[39m\u001b[38;5;124m\"\u001b[39m\u001b[38;5;124mCouldn\u001b[39m\u001b[38;5;124m'\u001b[39m\u001b[38;5;124mt find appropriate backend to handle uri \u001b[39m\u001b[38;5;132;01m{\u001b[39;00muri\u001b[38;5;132;01m}\u001b[39;00m\u001b[38;5;124m and format \u001b[39m\u001b[38;5;132;01m{\u001b[39;00m\u001b[38;5;28mformat\u001b[39m\u001b[38;5;132;01m}\u001b[39;00m\u001b[38;5;124m.\u001b[39m\u001b[38;5;124m\"\u001b[39m)\n",
      "\u001b[0;31mRuntimeError\u001b[0m: Couldn't find appropriate backend to handle uri /home/j597s263/scratch/j597s263/Datasets/Audio/Lossless/1.flac and format None."
     ]
    }
   ],
   "source": [
    "import torchaudio\n",
    "import torch\n",
    "import torchaudio.transforms as T\n",
    "import os\n",
    "\n",
    "# Load a test audio file\n",
    "test_file = \"/home/j597s263/scratch/j597s263/Datasets/Audio/Lossless/1.flac\"\n",
    "waveform, sample_rate = torchaudio.load(test_file)\n",
    "\n",
    "# Print the initial shape and sample rate\n",
    "print(f\"Loaded waveform shape: {waveform.shape}, Sample rate: {sample_rate}\")"
   ]
  },
  {
   "cell_type": "code",
   "execution_count": null,
   "id": "e019e5e5-9df8-400f-93fd-8ddcc770f06a",
   "metadata": {},
   "outputs": [],
   "source": []
  }
 ],
 "metadata": {
  "kernelspec": {
   "display_name": "Python 3 (ipykernel)",
   "language": "python",
   "name": "python3"
  },
  "language_info": {
   "codemirror_mode": {
    "name": "ipython",
    "version": 3
   },
   "file_extension": ".py",
   "mimetype": "text/x-python",
   "name": "python",
   "nbconvert_exporter": "python",
   "pygments_lexer": "ipython3",
   "version": "3.9.18"
  }
 },
 "nbformat": 4,
 "nbformat_minor": 5
}
