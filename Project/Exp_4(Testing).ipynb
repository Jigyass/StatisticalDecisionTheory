{
 "cells": [
  {
   "cell_type": "code",
   "execution_count": 1,
   "id": "df9c0b4b-926c-4af8-bd0c-7e588a673e28",
   "metadata": {},
   "outputs": [],
   "source": [
    "import torch\n",
    "import torch.nn as nn\n",
    "from torch.nn import TransformerEncoder, TransformerEncoderLayer\n",
    "import matplotlib.pyplot as plt"
   ]
  },
  {
   "cell_type": "code",
   "execution_count": 2,
   "id": "a0854125-6384-417b-82b3-0845fa6ddd2e",
   "metadata": {},
   "outputs": [],
   "source": [
    "class AudioEnhancer(nn.Module):\n",
    "    def __init__(self, num_transformer_layers=2, num_heads=8, cnn_filters=[32, 64, 128, 256]):\n",
    "        super(AudioEnhancer, self).__init__()\n",
    "        \n",
    "        # CNN Encoder\n",
    "        self.encoder = nn.Sequential(\n",
    "            nn.Conv1d(2, cnn_filters[0], kernel_size=3, padding=1),\n",
    "            nn.ReLU(),\n",
    "            nn.Conv1d(cnn_filters[0], cnn_filters[1], kernel_size=3, padding=1),\n",
    "            nn.ReLU(),\n",
    "            nn.Conv1d(cnn_filters[1], cnn_filters[2], kernel_size=3, padding=1),\n",
    "            nn.ReLU(),\n",
    "            nn.Conv1d(cnn_filters[2], cnn_filters[3], kernel_size=3, padding=1),\n",
    "            nn.ReLU()\n",
    "        )\n",
    "        \n",
    "        # Transformer\n",
    "        self.transformer = TransformerEncoder(\n",
    "            TransformerEncoderLayer(\n",
    "                d_model=cnn_filters[-1], \n",
    "                nhead=num_heads, \n",
    "                dim_feedforward=512, \n",
    "                activation='relu', \n",
    "                batch_first=True\n",
    "            ),\n",
    "            num_layers=num_transformer_layers\n",
    "        )\n",
    "        \n",
    "        # CNN Decoder\n",
    "        self.decoder = nn.Sequential(\n",
    "            nn.ConvTranspose1d(cnn_filters[3], cnn_filters[2], kernel_size=3, padding=1),\n",
    "            nn.ReLU(),\n",
    "            nn.ConvTranspose1d(cnn_filters[2], cnn_filters[1], kernel_size=3, padding=1),\n",
    "            nn.ReLU(),\n",
    "            nn.ConvTranspose1d(cnn_filters[1], cnn_filters[0], kernel_size=3, padding=1),\n",
    "            nn.ReLU(),\n",
    "            nn.ConvTranspose1d(cnn_filters[0], 2, kernel_size=3, padding=1),\n",
    "            nn.Tanh()\n",
    "        )\n",
    "    \n",
    "    def forward(self, x):\n",
    "        # Input: [batch_size, 2, 4800]\n",
    "        \n",
    "        # CNN Encoder\n",
    "        x = self.encoder(x)  # Shape: [batch_size, cnn_filters[-1], 4800]\n",
    "        \n",
    "        # Permute for Transformer\n",
    "        x = x.permute(0, 2, 1)  # Shape: [batch_size, 4800, cnn_filters[-1]]\n",
    "        x = self.transformer(x)  # Shape: [batch_size, 4800, cnn_filters[-1]]\n",
    "        x = x.permute(0, 2, 1)  # Shape: [batch_size, cnn_filters[-1], 4800]\n",
    "        \n",
    "        # CNN Decoder\n",
    "        x = self.decoder(x)  # Shape: [batch_size, 2, 4800]\n",
    "        \n",
    "        return x\n",
    "\n",
    "\n",
    "\n",
    "class PerceptualLoss(nn.Module):\n",
    "    def __init__(self, feature_extractor):\n",
    "        super(PerceptualLoss, self).__init__()\n",
    "        self.feature_extractor = feature_extractor\n",
    "        self.mse_loss = nn.MSELoss()\n",
    "    \n",
    "    def forward(self, pred, target):\n",
    "        # Compute perceptual features\n",
    "        pred_features = self.feature_extractor(pred)\n",
    "        target_features = self.feature_extractor(target)\n",
    "        \n",
    "        # Perceptual loss\n",
    "        perceptual_loss = self.mse_loss(pred_features, target_features)\n",
    "        \n",
    "        # Reconstruction loss\n",
    "        reconstruction_loss = self.mse_loss(pred, target)\n",
    "        \n",
    "        return perceptual_loss + reconstruction_loss\n",
    "\n",
    "\n",
    "# Dummy feature extractor for perceptual loss\n",
    "class DummyFeatureExtractor(nn.Module):\n",
    "    def __init__(self):\n",
    "        super(DummyFeatureExtractor, self).__init__()\n",
    "        self.features = nn.Sequential(\n",
    "            nn.Conv1d(2, 16, kernel_size=3, padding=1),\n",
    "            nn.ReLU(),\n",
    "            nn.Conv1d(16, 32, kernel_size=3, padding=1),\n",
    "            nn.ReLU(),\n",
    "        )\n",
    "    \n",
    "    def forward(self, x):\n",
    "        return self.features(x)"
   ]
  },
  {
   "cell_type": "code",
   "execution_count": 4,
   "id": "23570c9a-cde5-4867-99fe-087443a80449",
   "metadata": {},
   "outputs": [
    {
     "name": "stdout",
     "output_type": "stream",
     "text": [
      "Model Loaded\n"
     ]
    }
   ],
   "source": [
    "import torch\n",
    "model_save_path = '/home/j597s263/scratch/j597s263/Models/Audio/Exp_4.mod'\n",
    "model = torch.load(model_save_path, weights_only=False)\n",
    "model.eval()\n",
    "\n",
    "print(\"Model Loaded\")"
   ]
  },
  {
   "cell_type": "code",
   "execution_count": null,
   "id": "92ce5d2d-99f0-4504-9264-020b6b6dac58",
   "metadata": {},
   "outputs": [],
   "source": []
  }
 ],
 "metadata": {
  "kernelspec": {
   "display_name": "Python 3 (ipykernel)",
   "language": "python",
   "name": "python3"
  },
  "language_info": {
   "codemirror_mode": {
    "name": "ipython",
    "version": 3
   },
   "file_extension": ".py",
   "mimetype": "text/x-python",
   "name": "python",
   "nbconvert_exporter": "python",
   "pygments_lexer": "ipython3",
   "version": "3.9.19"
  }
 },
 "nbformat": 4,
 "nbformat_minor": 5
}
