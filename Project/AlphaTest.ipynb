{
 "cells": [
  {
   "cell_type": "code",
   "execution_count": 1,
   "id": "c370b2a0-7581-4158-b403-0beae54e23e1",
   "metadata": {},
   "outputs": [],
   "source": [
    "import torchaudio.transforms as T\n",
    "import torch\n",
    "import torchaudio\n",
    "from torch.utils.data import Dataset\n",
    "import os\n",
    "from torch.utils.data import DataLoader\n",
    "import torch.nn as nn\n",
    "from torch.nn import TransformerEncoder, TransformerEncoderLayer"
   ]
  },
  {
   "cell_type": "code",
   "execution_count": 2,
   "id": "252521c1-a1bc-4399-b3bf-5fb612954139",
   "metadata": {},
   "outputs": [],
   "source": [
    "class AudioDataset(Dataset):\n",
    "    def __init__(self, lossless_dir, lossy_dir, segment_duration=1, target_sample_rate=44000):\n",
    "        \"\"\"\n",
    "        Initializes the dataset by processing all audio files in the given directories.\n",
    "        Each observation is a pair of corresponding lossy and lossless 1-second stereo segments.\n",
    "        \"\"\"\n",
    "        self.data = []\n",
    "        self.segment_duration = segment_duration\n",
    "        self.target_sample_rate = target_sample_rate\n",
    "\n",
    "        # Get sorted lists of lossless and lossy files\n",
    "        lossless_files = sorted([os.path.join(lossless_dir, f) for f in os.listdir(lossless_dir)])\n",
    "        lossy_files = sorted([os.path.join(lossy_dir, f) for f in os.listdir(lossy_dir)])\n",
    "\n",
    "        # Ensure equal number of files\n",
    "        assert len(lossless_files) == len(lossy_files), \"Mismatch in number of lossless and lossy files!\"\n",
    "\n",
    "        # Process files and create dataset\n",
    "        for lossless_file, lossy_file in zip(lossless_files, lossy_files):\n",
    "            self.data.extend(self._process_pair(lossless_file, lossy_file))\n",
    "        \n",
    "        print(f\"Dataset created with {len(self.data)} segment pairs.\")\n",
    "\n",
    "    def _process_pair(self, lossless_path, lossy_path):\n",
    "        \"\"\"\n",
    "        Processes a pair of lossless and lossy files into aligned 1-second stereo segments.\n",
    "        \"\"\"\n",
    "        lossless_segments = self._preprocess_and_split(lossless_path, resample_to=self.target_sample_rate)\n",
    "        lossy_segments = self._preprocess_and_split(lossy_path, resample_to=self.target_sample_rate)\n",
    "        assert len(lossless_segments) == len(lossy_segments), f\"Segment mismatch in {lossless_path} and {lossy_path}!\"\n",
    "        return list(zip(lossy_segments, lossless_segments))\n",
    "\n",
    "    def _preprocess_and_split(self, file_path, resample_to=None):\n",
    "        \"\"\"\n",
    "        Loads an audio file, optionally resamples, and splits it into 1-second stereo segments.\n",
    "        \"\"\"\n",
    "        waveform, sample_rate = torchaudio.load(file_path)\n",
    "        \n",
    "        # Resample if needed\n",
    "        if resample_to and sample_rate != resample_to:\n",
    "            resampler = T.Resample(orig_freq=sample_rate, new_freq=resample_to)\n",
    "            waveform = resampler(waveform)\n",
    "        \n",
    "        segment_length = int(resample_to if resample_to else sample_rate) * self.segment_duration  # Samples per segment\n",
    "        return [waveform[:, i:i + segment_length] for i in range(0, waveform.shape[1], segment_length) \n",
    "                if waveform[:, i:i + segment_length].shape[1] == segment_length]\n",
    "\n",
    "    def __len__(self):\n",
    "        return len(self.data)\n",
    "\n",
    "    def __getitem__(self, idx):\n",
    "        return self.data[idx]"
   ]
  },
  {
   "cell_type": "code",
   "execution_count": 3,
   "id": "4701f144-d92d-44fc-a7f8-eaa822056dc9",
   "metadata": {},
   "outputs": [
    {
     "name": "stdout",
     "output_type": "stream",
     "text": [
      "Dataset created with 24622 segment pairs.\n",
      "Total number of observations (segment pairs): 24622\n",
      "Lossy segment shape: torch.Size([2, 44000])\n",
      "Lossless segment shape: torch.Size([2, 44000])\n"
     ]
    }
   ],
   "source": [
    "dataset = AudioDataset(lossless_dir='/home/j597s263/scratch/j597s263/Datasets/Audio/Lossless/', lossy_dir='/home/j597s263/scratch/j597s263/Datasets/Audio/Lossy/')\n",
    "\n",
    "print(f\"Total number of observations (segment pairs): {len(dataset)}\")\n",
    "\n",
    "# Example: Retrieve a single observation\n",
    "lossy_segment, lossless_segment = dataset[0]\n",
    "print(f\"Lossy segment shape: {lossy_segment.shape}\")\n",
    "print(f\"Lossless segment shape: {lossless_segment.shape}\")"
   ]
  },
  {
   "cell_type": "code",
   "execution_count": 4,
   "id": "97194637-35d0-4e2b-ac26-1b9d2709ef88",
   "metadata": {},
   "outputs": [],
   "source": [
    "class AudioEnhancer(nn.Module):\n",
    "    def __init__(self, num_transformer_layers=2, num_heads=8, cnn_filters=[32, 64, 128, 256]):\n",
    "        super(AudioEnhancer, self).__init__()\n",
    "        \n",
    "        # CNN Encoder\n",
    "        self.encoder = nn.Sequential(\n",
    "            nn.Conv1d(2, cnn_filters[0], kernel_size=3, padding=1),\n",
    "            nn.ReLU(),\n",
    "            nn.Conv1d(cnn_filters[0], cnn_filters[1], kernel_size=3, padding=1),\n",
    "            nn.ReLU(),\n",
    "            nn.Conv1d(cnn_filters[1], cnn_filters[2], kernel_size=3, padding=1),\n",
    "            nn.ReLU(),\n",
    "            nn.Conv1d(cnn_filters[2], cnn_filters[3], kernel_size=3, padding=1),\n",
    "            nn.ReLU()\n",
    "        )\n",
    "        \n",
    "        # Transformer\n",
    "        self.transformer = TransformerEncoder(\n",
    "            TransformerEncoderLayer(d_model=cnn_filters[-1], nhead=num_heads, dim_feedforward=512, activation='relu', batch_first=True),\n",
    "            num_layers=num_transformer_layers\n",
    "        )\n",
    "        \n",
    "        # CNN Decoder\n",
    "        self.decoder = nn.Sequential(\n",
    "            nn.ConvTranspose1d(cnn_filters[3], cnn_filters[2], kernel_size=3, padding=1),\n",
    "            nn.ReLU(),\n",
    "            nn.ConvTranspose1d(cnn_filters[2], cnn_filters[1], kernel_size=3, padding=1),\n",
    "            nn.ReLU(),\n",
    "            nn.ConvTranspose1d(cnn_filters[1], cnn_filters[0], kernel_size=3, padding=1),\n",
    "            nn.ReLU(),\n",
    "            nn.ConvTranspose1d(cnn_filters[0], 2, kernel_size=3, padding=1),\n",
    "            nn.Tanh()\n",
    "        )\n",
    "    \n",
    "    def forward(self, x):\n",
    "        # Input: [batch_size, 2, 48000]\n",
    "        \n",
    "        # CNN Encoder\n",
    "        x = self.encoder(x)  # Shape: [batch_size, cnn_filters[-1], 48000]\n",
    "        \n",
    "        # Permute for Transformer\n",
    "        x = x.permute(0, 2, 1)  # Shape: [batch_size, 48000, cnn_filters[-1]]\n",
    "        x = self.transformer(x)  # Shape: [batch_size, 48000, cnn_filters[-1]]\n",
    "        x = x.permute(0, 2, 1)  # Shape: [batch_size, cnn_filters[-1], 48000]\n",
    "        \n",
    "        # CNN Decoder\n",
    "        x = self.decoder(x)  # Shape: [batch_size, 2, 48000]\n",
    "        \n",
    "        return x"
   ]
  },
  {
   "cell_type": "code",
   "execution_count": 5,
   "id": "9d7dcea9-16d2-42f1-a0f5-02ea44969280",
   "metadata": {},
   "outputs": [],
   "source": [
    "class PerceptualLoss(nn.Module):\n",
    "    def __init__(self, feature_extractor):\n",
    "        super(PerceptualLoss, self).__init__()\n",
    "        self.feature_extractor = feature_extractor\n",
    "        self.mse_loss = nn.MSELoss()\n",
    "    \n",
    "    def forward(self, pred, target):\n",
    "        # Compute perceptual features\n",
    "        pred_features = self.feature_extractor(pred)\n",
    "        target_features = self.feature_extractor(target)\n",
    "        \n",
    "        # Perceptual loss\n",
    "        perceptual_loss = self.mse_loss(pred_features, target_features)\n",
    "        \n",
    "        # Reconstruction loss\n",
    "        reconstruction_loss = self.mse_loss(pred, target)\n",
    "        \n",
    "        return perceptual_loss + reconstruction_loss"
   ]
  },
  {
   "cell_type": "code",
   "execution_count": 6,
   "id": "593d282b-f70b-484a-96ca-2060711616ca",
   "metadata": {},
   "outputs": [],
   "source": [
    "def train_model(model, dataloader, optimizer, loss_fn, num_epochs=10):\n",
    "    model.train()\n",
    "    for epoch in range(num_epochs):\n",
    "        total_loss = 0\n",
    "        for lossy, lossless in dataloader:\n",
    "            # Move to GPU if available\n",
    "            lossy, lossless = lossy.to(device), lossless.to(device)\n",
    "            \n",
    "            # Forward pass\n",
    "            output = model(lossy)\n",
    "            \n",
    "            # Compute loss\n",
    "            loss = loss_fn(output, lossless)\n",
    "            \n",
    "            # Backward pass\n",
    "            optimizer.zero_grad()\n",
    "            loss.backward()\n",
    "            optimizer.step()\n",
    "            \n",
    "            total_loss += loss.item()\n",
    "        \n",
    "        print(f\"Epoch {epoch+1}/{num_epochs}, Loss: {total_loss / len(dataloader):.4f}\")        "
   ]
  },
  {
   "cell_type": "code",
   "execution_count": 7,
   "id": "cb494600-225c-4e13-9f09-8dc01d950c82",
   "metadata": {},
   "outputs": [],
   "source": [
    "audio = DataLoader(dataset, batch_size=8, shuffle=True)"
   ]
  },
  {
   "cell_type": "code",
   "execution_count": 8,
   "id": "6db2b5ba-a218-4434-b614-ac0228940431",
   "metadata": {},
   "outputs": [],
   "source": [
    "device = 'cuda'\n",
    "model = AudioEnhancer(num_transformer_layers=4, num_heads=16).to(device)\n",
    "optimizer = torch.optim.Adam(model.parameters(), lr=5e-6)"
   ]
  },
  {
   "cell_type": "code",
   "execution_count": 9,
   "id": "cb7448cd-6d45-4bfc-89d2-3c01c2394145",
   "metadata": {},
   "outputs": [],
   "source": [
    "class DummyFeatureExtractor(nn.Module):\n",
    "    def __init__(self):\n",
    "        super(DummyFeatureExtractor, self).__init__()\n",
    "        self.features = nn.Sequential(\n",
    "            nn.Conv1d(2, 16, kernel_size=3, padding=1),\n",
    "            nn.ReLU(),\n",
    "            nn.Conv1d(16, 32, kernel_size=3, padding=1),\n",
    "            nn.ReLU(),\n",
    "        )\n",
    "    \n",
    "    def forward(self, x):\n",
    "        return self.features(x)\n",
    "\n",
    "# Initialize feature extractor\n",
    "feature_extractor = DummyFeatureExtractor().to(device)\n",
    "loss_fn = PerceptualLoss(feature_extractor).to(device)"
   ]
  },
  {
   "cell_type": "code",
   "execution_count": 10,
   "id": "4b83168a-8ea1-4649-803d-d4cd30a1416b",
   "metadata": {},
   "outputs": [
    {
     "ename": "KeyboardInterrupt",
     "evalue": "",
     "output_type": "error",
     "traceback": [
      "\u001b[0;31m---------------------------------------------------------------------------\u001b[0m",
      "\u001b[0;31mKeyboardInterrupt\u001b[0m                         Traceback (most recent call last)",
      "Cell \u001b[0;32mIn[10], line 2\u001b[0m\n\u001b[1;32m      1\u001b[0m \u001b[38;5;66;03m# Train the model\u001b[39;00m\n\u001b[0;32m----> 2\u001b[0m \u001b[43mtrain_model\u001b[49m\u001b[43m(\u001b[49m\u001b[43mmodel\u001b[49m\u001b[43m,\u001b[49m\u001b[43m \u001b[49m\u001b[43maudio\u001b[49m\u001b[43m,\u001b[49m\u001b[43m \u001b[49m\u001b[43moptimizer\u001b[49m\u001b[43m,\u001b[49m\u001b[43m \u001b[49m\u001b[43mloss_fn\u001b[49m\u001b[43m,\u001b[49m\u001b[43m \u001b[49m\u001b[43mnum_epochs\u001b[49m\u001b[38;5;241;43m=\u001b[39;49m\u001b[38;5;241;43m1\u001b[39;49m\u001b[43m)\u001b[49m\n",
      "Cell \u001b[0;32mIn[6], line 20\u001b[0m, in \u001b[0;36mtrain_model\u001b[0;34m(model, dataloader, optimizer, loss_fn, num_epochs)\u001b[0m\n\u001b[1;32m     17\u001b[0m     loss\u001b[38;5;241m.\u001b[39mbackward()\n\u001b[1;32m     18\u001b[0m     optimizer\u001b[38;5;241m.\u001b[39mstep()\n\u001b[0;32m---> 20\u001b[0m     total_loss \u001b[38;5;241m+\u001b[39m\u001b[38;5;241m=\u001b[39m \u001b[43mloss\u001b[49m\u001b[38;5;241;43m.\u001b[39;49m\u001b[43mitem\u001b[49m\u001b[43m(\u001b[49m\u001b[43m)\u001b[49m\n\u001b[1;32m     22\u001b[0m \u001b[38;5;28mprint\u001b[39m(\u001b[38;5;124mf\u001b[39m\u001b[38;5;124m\"\u001b[39m\u001b[38;5;124mEpoch \u001b[39m\u001b[38;5;132;01m{\u001b[39;00mepoch\u001b[38;5;241m+\u001b[39m\u001b[38;5;241m1\u001b[39m\u001b[38;5;132;01m}\u001b[39;00m\u001b[38;5;124m/\u001b[39m\u001b[38;5;132;01m{\u001b[39;00mnum_epochs\u001b[38;5;132;01m}\u001b[39;00m\u001b[38;5;124m, Loss: \u001b[39m\u001b[38;5;132;01m{\u001b[39;00mtotal_loss\u001b[38;5;250m \u001b[39m\u001b[38;5;241m/\u001b[39m\u001b[38;5;250m \u001b[39m\u001b[38;5;28mlen\u001b[39m(dataloader)\u001b[38;5;132;01m:\u001b[39;00m\u001b[38;5;124m.4f\u001b[39m\u001b[38;5;132;01m}\u001b[39;00m\u001b[38;5;124m\"\u001b[39m)\n",
      "\u001b[0;31mKeyboardInterrupt\u001b[0m: "
     ]
    }
   ],
   "source": [
    "# Train the model\n",
    "train_model(model, audio, optimizer, loss_fn, num_epochs=1)"
   ]
  },
  {
   "cell_type": "code",
   "execution_count": null,
   "id": "3c999c2f-a14c-4299-bda5-d36d4fd9e43c",
   "metadata": {},
   "outputs": [],
   "source": [
    "torch.save(model, '/home/j597s263/scratch/j597s263/Models/Audio/AlphaTest.mod')"
   ]
  }
 ],
 "metadata": {
  "kernelspec": {
   "display_name": "Python 3 (ipykernel)",
   "language": "python",
   "name": "python3"
  },
  "language_info": {
   "codemirror_mode": {
    "name": "ipython",
    "version": 3
   },
   "file_extension": ".py",
   "mimetype": "text/x-python",
   "name": "python",
   "nbconvert_exporter": "python",
   "pygments_lexer": "ipython3",
   "version": "3.9.19"
  }
 },
 "nbformat": 4,
 "nbformat_minor": 5
}
